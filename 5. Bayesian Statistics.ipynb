{
 "cells": [
  {
   "cell_type": "markdown",
   "metadata": {},
   "source": [
    "# Bayesian Statistics\n",
    "\n",
    "In Section 5, you will learn about Bayesian statistics through looking at examples from rare disease diagnosis and baseball.\n",
    "\n",
    "After completing Section 5, you will be able to:\n",
    "\n",
    "- Apply Bayes' theorem to calculate the probability of A given B.\n",
    "- Understand how to use hierarchical models to make better predictions by considering multiple levels of variability.\n",
    "- Compute a posterior probability using an empirical Bayesian approach.\n",
    "- Calculate a 95% credible interval from a posterior probability.\n",
    "\n",
    "Some key points to consider:\n",
    "\n",
    "- In the urn model, it does not make sense to talk about the probability of $p$ being greater than a certain value because $p$ is a fixed value.\n",
    "- With Bayesian statistics, we assume that $p$ is in fact random, which allows us to calculate probabilities related to $p$.\n",
    "- Hierarchical models describe variability at different levels and incorporate all these levels into a model for estimating $p$."
   ]
  },
  {
   "cell_type": "markdown",
   "metadata": {},
   "source": [
    "## Bayes' Theorem\n",
    "\n",
    "### Theorem\n",
    "\n",
    "Let $P$ be a probability meassure over $X$. Let $A \\subseteq X$ and $B \\subseteq X$ be two events such that $P(B) \\neq 0$. Then the following equation holds:\n",
    "$$\n",
    "    P(A | B) = \\frac{P(B|A)P(A)}{P(B)}.\n",
    "$$\n",
    "\n",
    "#### Proof\n",
    "\n",
    "By definition consider the following two equations:\n",
    "$$\n",
    "\\begin{align}\n",
    "    P(A | B) & = \\frac{P(A \\cap B)}{P(B)} \\text{, if } P(B) \\neq 0,\\\\\n",
    "    P(B | A) & = \\frac{P(A \\cap B)}{P(A)} \\text{, if } P(A) \\neq 0.\n",
    "\\end{align}\n",
    "$$\n",
    "Solving (1) and (2) for $P(A \\cap B)$ and substituting we have:\n",
    "$$\n",
    "    P(B) P(A | B) = P(A) P(B | A) \\\\\n",
    "    \\Rightarrow P(A|B) = \\frac{P(B|A) P(A)}{P(B)}\n",
    "$$\n",
    "\n",
    "Some key points to consider:\n",
    "\n",
    "- Bayes' Theorem states that the probability of event A happening given event B is equal to the probability of both A and B divided by the probability of event B:\n",
    "$$\n",
    "    \\mathbb{P}(A|B) = \\frac{\\mathbb{P}(B|A) \\mathbb{A}}{\\mathbb{P}(B)}\n",
    "$$\n",
    "- Bayes' Theorem shows that a test for a very rare disease will have a high percentage of false positives even if the accuracy of the test is high.\n",
    "\n",
    "### Equations: Cystic fibrosis test probabilities\n",
    "\n",
    "In these probabilities, $+$ represents a positive test, $-$ represents a negative test, $D = 0$ indicates no disease, and $D = 1$ indicates the disease is present.\n",
    "\n",
    "Probability of having the disease given a positive test: $\\mathbb{P}(D = 1 | +)$\n",
    "99% test accuracy when disease is present: $\\mathbb{P}(+ | D = 1) = 0.99$\n",
    "99% test accuracy when disease is absent: $\\mathbb{P}(- | D = 0) = 0.99$\n",
    "Rate of cystic fibrosis: $\\mathbb{P} = 0.00025$\n",
    "Bayes' theorem can be applied like this:\n",
    "$$\n",
    "\\begin{align*}\n",
    "    \\mathbb{P}(D = 1 | +) & = \\frac{\\mathbb{P}(+ | D=1) \\cdot \\mathbb{P}(D = 1)}{\\mathbb{P}(+)} \\\\\n",
    "    & = \\frac{\\mathbb{P}(+ | D = 1) \\cdot \\mathbb{P}(D = 1)}{\\mathbb{P}(+ | D = 1) \\cdot \\mathbb{P}(D = 1) + \\mathbb{P}(+ | D = 0) \\cdot \\mathbb{P}(D = 0)}\n",
    "\\end{align*}\n",
    "$$\n",
    "Substituting known values, we obtain:\n",
    "$$\n",
    "    \\frac{0.99 \\cdot 0.00025}{0.99 \\cdot 0.00025 + 0.01 \\cdot 0.99975} = 0.02\n",
    "$$"
   ]
  },
  {
   "cell_type": "markdown",
   "metadata": {},
   "source": [
    "Now we will create a Monte Carlo simulation of the previous exercise:"
   ]
  },
  {
   "cell_type": "code",
   "execution_count": 8,
   "metadata": {},
   "outputs": [
    {
     "data": {
      "text/plain": [
       "          ┌───────────────┐\n",
       "          │ Ground Truth  │\n",
       "┌─────────┼───────┬───────┤\n",
       "│Predicted│Disease│Healthy│\n",
       "├─────────┼───────┼───────┤\n",
       "│ Disease │  36   │   1   │\n",
       "├─────────┼───────┼───────┤\n",
       "│ Healthy │  977  │ 98986 │\n",
       "└─────────┴───────┴───────┘\n"
      ]
     },
     "metadata": {},
     "output_type": "display_data"
    }
   ],
   "source": [
    "# Use StatsBase to make use of the sample with Weights.\n",
    "using StatsBase\n",
    "# Use DataFrames to create a table and work with it.\n",
    "using DataFrames\n",
    "# Use MLJ to compute the cofusion matrix.\n",
    "using MLJ\n",
    "\n",
    "# Disease prevalence\n",
    "# prev = 0.00025\n",
    "prev = 1 / 3900\n",
    "# Number of tests.\n",
    "N = 100000\n",
    "signs = [\"+\", \"-\"]\n",
    "status = [\"Disease\", \"Healthy\"]\n",
    "statusDict = Dict(zip(signs, status))\n",
    "outcome = sample(status, Weights([prev, 1 - prev]), N)\n",
    "\n",
    "# Number with disease.\n",
    "N₊ = map(oc -> oc == statusDict[\"+\"], outcome) |> sum\n",
    "# N₊ = sum(outcome .== statusDict[\"+\"]) # Another variant for N₊ with broadcast operator.\n",
    "# Number healthy.\n",
    "N₋ = map(oc -> oc == statusDict[\"-\"], outcome) |> sum\n",
    "# N₋ = sum(outcome .== statusDict[\"-\"]) # Another variant for N₋ with broadcast operator.\n",
    "\n",
    "# For each person, randomly determine if the test is positive (+) or negative (-).\n",
    "accuracy = 0.99\n",
    "test = fill(\"\", N)\n",
    "test[outcome .== statusDict[\"+\"]] = sample(signs, Weights([accuracy, 1 - accuracy]), N₊)\n",
    "test[outcome .== statusDict[\"-\"]] = sample(signs, Weights([1 - accuracy, accuracy]), N₋)\n",
    "\n",
    "# Present the results.\n",
    "result = DataFrame(outcome = outcome, test = test)\n",
    "resultCount = groupby(result, [:outcome, :test]) |>\n",
    "    grouped -> combine(grouped, nrow => :count)\n",
    "\n",
    "# Print the confusion matrix.\n",
    "confusion_matrix(outcome, map(t -> statusDict[t], test))"
   ]
  },
  {
   "cell_type": "markdown",
   "metadata": {},
   "source": [
    "## The Hierarchical Model\n",
    "\n",
    "Some key points to consider:\n",
    "\n",
    "- Hierarchical models use multiple levels of variability to model results. They are hierarchical because values in the lower levels of the model are computed using values from higher levels of the model.\n",
    "- We model baseball player batting average using a hierarchical model with two levels of variability:\n",
    "    - $p \\sim N(\\mu, \\tau)$ describes player-to-player variability in natural ability to hit, which has a mean $\\mu$ and standard deviation $\\tau$.\n",
    "    - $Y | p \\sim N(p, \\sigma)$ describes a player's observed batting average given their ability $p$, which has a mean $p$ and standard deviation $\\sigma = \\sqrt{p(1 - p)/N}$. This represents variability due to luck.\n",
    "    - In Bayesian hierarchical models, the first level is called the prior distribution and the second level is called the sampling distribution.\n",
    "- The posterior distribution allows us to compute the probability distribution of $p$ given that we have observed data $Y$.\n",
    "- By the continuous version of Bayes' rule, the expected value of the posterior distribution $p$ given $Y = y$ is a weighted average between the prior mean $mu$ and the observed data $Y$:\n",
    "$$\n",
    "    \\mathbb{E}(p | y) = B\\mu + (1 - B) Y \\text{ where } B = \\frac{\\sigma^2}{\\sigma^2 + \\tau^2}\n",
    "$$\n",
    "- The standard error of the posterior distribution $SE(p | Y)^2$ is $\\dfrac{1}{\\frac{1}{\\sigma^2} + \\frac{1}{\\tau^2}}$. Note that you will need to take the square root of both sides to solve for the standard error.\n",
    "- This Bayesian approach is also known as shrinking. When $\\sigma$ is large, $B$ is close to 1 and our prediction of $p$ shrinks towards the mean ($\\mu$). When $\\sigma$ is small, $B$ is close to 0 and our prediction of $p$ is more weighted towards the observed data $Y$."
   ]
  },
  {
   "cell_type": "markdown",
   "metadata": {},
   "source": []
  }
 ],
 "metadata": {
  "kernelspec": {
   "display_name": "Julia 1.9.3",
   "language": "julia",
   "name": "julia-1.9"
  },
  "language_info": {
   "file_extension": ".jl",
   "mimetype": "application/julia",
   "name": "julia",
   "version": "1.9.3"
  }
 },
 "nbformat": 4,
 "nbformat_minor": 2
}
