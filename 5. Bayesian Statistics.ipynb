{
 "cells": [
  {
   "cell_type": "markdown",
   "metadata": {},
   "source": [
    "# Bayesian Statistics\n",
    "\n",
    "In Section 5, you will learn about Bayesian statistics through looking at examples from rare disease diagnosis and baseball.\n",
    "\n",
    "After completing Section 5, you will be able to:\n",
    "\n",
    "- Apply Bayes' theorem to calculate the probability of A given B.\n",
    "- Understand how to use hierarchical models to make better predictions by considering multiple levels of variability.\n",
    "- Compute a posterior probability using an empirical Bayesian approach.\n",
    "- Calculate a 95% credible interval from a posterior probability.\n",
    "\n",
    "Some key points to consider:\n",
    "\n",
    "- In the urn model, it does not make sense to talk about the probability of $p$ being greater than a certain value because $p$ is a fixed value.\n",
    "- With Bayesian statistics, we assume that $p$ is in fact random, which allows us to calculate probabilities related to $p$.\n",
    "- Hierarchical models describe variability at different levels and incorporate all these levels into a model for estimating $p$."
   ]
  },
  {
   "cell_type": "markdown",
   "metadata": {},
   "source": [
    "## Bayes' Theorem\n",
    "\n",
    "### Theorem\n",
    "\n",
    "Let $P$ be a probability meassure over $X$. Let $A \\subseteq X$ and $B \\subseteq$ be two events such that $P(B) \\neq 0$. Then the following equation holds:\n",
    "$$\n",
    "    P(A | B) = \\frac{P(B|A)P(A)}{P(B)}.\n",
    "$$\n",
    "\n",
    "#### Proof\n",
    "\n",
    "By definition consider the following two equations:\n",
    "$$\n",
    "\\begin{align}\n",
    "    P(A | B) & = \\frac{P(A \\cap B)}{P(B)} \\text{, if } P(B) \\neq 0,\\\\\n",
    "    P(B | A) & = \\frac{P(A \\cap B)}{P(A)} \\text{, if } P(A) \\neq 0.\n",
    "\\end{align}\n",
    "$$\n",
    "Solving (1) and (2) for $P(A \\cap B)$ and substituting we have:\n",
    "$$\n",
    "    P(B) P(A | B) = P(A) P(B | A) \\\\\n",
    "    \\Rightarrow P(A|B) = \\frac{P(B|A) P(A)}{P(B)}\n",
    "$$"
   ]
  },
  {
   "cell_type": "markdown",
   "metadata": {},
   "source": []
  }
 ],
 "metadata": {
  "language_info": {
   "name": "python"
  }
 },
 "nbformat": 4,
 "nbformat_minor": 2
}
