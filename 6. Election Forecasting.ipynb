{
 "cells": [
  {
   "cell_type": "markdown",
   "metadata": {},
   "source": [
    "# Election Forecasting\n",
    "\n",
    "In Section 6, you will learn about election forecasting, building on what you've learned in the previous sections about statistical modeling and Bayesian statistics.\n",
    "\n",
    "After completing Section 6, you will be able to:\n",
    "\n",
    "- Understand how pollsters use hierarchical models to forecast the results of elections.\n",
    "- Incorporate multiple sources of variability into a mathematical model to make predictions.\n",
    "- Construct confidence intervals that better model deviations such as those seen in election data using the t-distribution.\n",
    "\n",
    "Some key points:\n",
    "\n",
    "- In our model:\n",
    "    - The spread $d \\sim N(\\mu, \\tau)$ describes our best guess in the absence of polling data. We set $\\mu = 0$ and $\\tau = 0.035$ using historical data.\n",
    "    - The average of observed data $\\bar{X} | d \\sim N(d, \\sigma)$ describes randomness due to sampling and the pollster effect.\n",
    "- Because the posterior distribution is normal, we can report a 95% credible interval that has a 95% chance of overlapping the parameter using $\\mathbb{E}(p | Y)$ and $SE(p | Y)$.\n",
    "- Given an estimate of $\\mathbb{E}(p | Y)$ and $SE(p | Y)$, we can use pnorm to compute the probability that $d > 0$.\n",
    "- It is common to see a general bias that affects all pollsters in the same way. This bias cannot be predicted or measured before the election. We will include a term in later models to account for this variability."
   ]
  },
  {
   "cell_type": "code",
   "execution_count": null,
   "metadata": {},
   "outputs": [],
   "source": []
  }
 ],
 "metadata": {
  "kernelspec": {
   "display_name": "Julia 1.9.3",
   "language": "julia",
   "name": "julia-1.9"
  },
  "language_info": {
   "file_extension": ".jl",
   "mimetype": "application/julia",
   "name": "julia",
   "version": "1.9.3"
  }
 },
 "nbformat": 4,
 "nbformat_minor": 2
}
