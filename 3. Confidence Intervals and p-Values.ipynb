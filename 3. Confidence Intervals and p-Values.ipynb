{
 "cells": [
  {
   "cell_type": "markdown",
   "metadata": {},
   "source": [
    "# Confidence Intervals and p-Values"
   ]
  },
  {
   "cell_type": "markdown",
   "metadata": {},
   "source": [
    "To compute the confidence intervals we need to compute:\n",
    "$$\n",
    "    \\mathbb{P}\\left( \\bar{X} - 2\\hat{SE}\\left(\\bar{X}\\right) \\le p \\le \\bar{X} + 2\\hat{SE}\\left(\\bar{X}\\right) \\right)\n",
    "$$\n",
    "which can be simplified into:\n",
    "$$\n",
    "    \\mathbb{P}\\left( -2 \\le \\frac{\\bar{X} - p}{\\hat{SE}\\left( \\bar{X} \\right)} \\le 2 \\right)\n",
    "$$\n",
    "And since:\n",
    "$$\n",
    "    \\frac{\\bar{X} - p}{\\hat{SE}\\left( \\bar{X} \\right)} =: Z \\sim N(0, 1).\n",
    "$$"
   ]
  },
  {
   "cell_type": "code",
   "execution_count": 2,
   "metadata": {},
   "outputs": [],
   "source": [
    "using Distributions\n",
    "using StatsBase"
   ]
  },
  {
   "cell_type": "markdown",
   "metadata": {},
   "source": [
    "### Solving for $z$ with `qnorm`\n",
    "If I want to get a 99% confidence interval:"
   ]
  },
  {
   "cell_type": "code",
   "execution_count": 3,
   "metadata": {},
   "outputs": [
    {
     "name": "stdout",
     "output_type": "stream",
     "text": [
      "pnorm(qnorm(0.995)) = 0.9950000000000001\n",
      "pnorm(qnorm(1 - 0.995)) = 0.0049999999999999324\n",
      "pnorm(z) - pnorm(-z) = 0.9900000000000002\n"
     ]
    }
   ],
   "source": [
    "# Define the pnorm from R.\n",
    "pnorm(x::Number) = cdf(Normal(0, 1), x);\n",
    "# Define the qnorm from R.\n",
    "qnorm(x::Number) = quantile(Normal(0, 1), x);\n",
    "# Confidence interval of 99%.\n",
    "confidence = 0.995\n",
    "# Calculate z for the confidence interval\n",
    "z = qnorm(confidence)\n",
    "# Showing that qnorm gives the z value for a given probability\n",
    "println(\"pnorm(qnorm($confidence)) = \", pnorm(z))\n",
    "# Showing symmetry of 1-qnorm.\n",
    "println(\"pnorm(qnorm(1 - $confidence)) = \", pnorm(qnorm(1 - confidence)))\n",
    "# Showing that this z value gives correct probability for interval \n",
    "println(\"pnorm(z) - pnorm(-z) = \", pnorm(z) - pnorm(-z))"
   ]
  },
  {
   "cell_type": "markdown",
   "metadata": {},
   "source": [
    "### Monte Carlo simulation of confidence intervals"
   ]
  },
  {
   "cell_type": "code",
   "execution_count": 4,
   "metadata": {},
   "outputs": [
    {
     "data": {
      "text/plain": [
       "2-element Vector{Float64}:\n",
       " 0.42449990476204874\n",
       " 0.4875000952379513"
      ]
     },
     "metadata": {},
     "output_type": "display_data"
    }
   ],
   "source": [
    "p = 0.45\n",
    "N = 1000\n",
    "# Generate N observations.\n",
    "x = sample([0, 1], Weights([1-p, p]), N)\n",
    "# Calculate X̂.\n",
    "x̂ = mean(x)\n",
    "# Calculate SÊ, SE of the mean of N observations.\n",
    "sê = sqrt(x̂ * (1 - x̂) / N)\n",
    "# Build interval of 2 * SE above and below mean.\n",
    "interval = [x̂ - 2*sê, x̂ + 2*sê]"
   ]
  },
  {
   "cell_type": "markdown",
   "metadata": {},
   "source": [
    "## A Monte Carlo Simulation for Confidence Intervals"
   ]
  },
  {
   "cell_type": "code",
   "execution_count": 5,
   "metadata": {},
   "outputs": [
    {
     "data": {
      "text/plain": [
       "0.9559"
      ]
     },
     "metadata": {},
     "output_type": "display_data"
    }
   ],
   "source": [
    "p = 0.45\n",
    "N = 1000\n",
    "B = 10000\n",
    "function getMonteCarloSimulation(p::Float64, N::Int64, B::Int64)\n",
    "    # Obtain the samples.\n",
    "    x = sample([0, 1], Weights([1 - p, p]), (N, B))\n",
    "    # Get the mean vector.\n",
    "    x̂ = mean(x, dims=1) |> vec\n",
    "    # Get the standard error.\n",
    "    sê = sqrt.(x̂ .* (1 .- x̂) / N)\n",
    "    # Compute for which cases, p is within its confidense interval.\n",
    "    inside = x̂ - 2 * sê .<= p .<= x̂ + 2 * sê\n",
    "    # Return the mean of the bit array.\n",
    "    return mean(inside)\n",
    "end\n",
    "\n",
    "getMonteCarloSimulation(p, N, B)"
   ]
  },
  {
   "cell_type": "markdown",
   "metadata": {},
   "source": [
    "## Power"
   ]
  },
  {
   "cell_type": "markdown",
   "metadata": {},
   "source": [
    "### Confidense interval for the spread with sample of size 25"
   ]
  },
  {
   "cell_type": "code",
   "execution_count": 6,
   "metadata": {},
   "outputs": [
    {
     "data": {
      "text/plain": [
       "2-element Vector{Float64}:\n",
       " -0.4396798718974975\n",
       "  0.35967987189749745"
      ]
     },
     "metadata": {},
     "output_type": "display_data"
    }
   ],
   "source": [
    "N = 25\n",
    "x̂ = 0.48\n",
    "(2 * x̂ - 1) .+ [-2, 2] * 2 * sqrt(x̂ * (1 - x̂) / N)"
   ]
  },
  {
   "cell_type": "markdown",
   "metadata": {},
   "source": [
    "If the size was $2500$, it would tell more about the polls since $0$ would not longer be part of the computed interval."
   ]
  },
  {
   "cell_type": "markdown",
   "metadata": {},
   "source": [
    "## $p$-Values\n",
    "\n",
    "Let us define the null hypothesis: in this case, that the spread is 0.\n",
    "\n",
    "Remember the random variable $2 \\bar{X} - 1 = 0.04$ and consider the $p$-value: how likely is it to see a value this large when the null hypothesis is true?\n",
    "\n",
    "We write it with probability:\n",
    "$$\n",
    "    \\mathbb{P}\\left( \\left| \\bar{X} - 0.5 \\right| > 0.02 \\right)\n",
    "$$\n",
    "which means _what is the probability of the spread to be 4% or more_.\n",
    "\n",
    "Also under the null hypothesis we know that\n",
    "$$\n",
    "    \\sqrt{N} \\frac{\\bar{X} - 0.5}{\\sqrt{0.5 \\cdot (1 - 0.5)}}\n",
    "$$\n",
    "is a standard normal. So we can compute the probability using this equation:\n",
    "$$\n",
    "    \\mathbb{P}\\left( \\sqrt{N}\\frac{\\left| \\bar{X} - 0.5 \\right|}{\\sqrt{0.5 \\cdot (1 - 0.5)}} > \\sqrt{N} \\frac{0.02}{\\sqrt{0.5 \\cdot (1 - 0.5)}} \\right)\n",
    "$$\n",
    "which reduces to\n",
    "$$\n",
    "    \\mathbb{P}\\left( \\sqrt{N}\\frac{\\left| \\bar{X} - 0.5 \\right|}{0.5} > Z \\right)\n",
    "$$\n",
    "and now it can be computed with the following Julia cell:"
   ]
  },
  {
   "cell_type": "code",
   "execution_count": 7,
   "metadata": {},
   "outputs": [
    {
     "name": "stdout",
     "output_type": "stream",
     "text": [
      "p-value: 0.6891565167793516"
     ]
    }
   ],
   "source": [
    "N = 100\n",
    "z = sqrt(N) * 0.02 / 0.5\n",
    "pValue = 1 - (pnorm(z) - pnorm(-z))\n",
    "print(\"p-value: \", pValue)"
   ]
  },
  {
   "cell_type": "markdown",
   "metadata": {},
   "source": [
    "Note that there is a close relationship between confidense intervals and $p$-values. If a 95% confidense interval of the spread does not include $0$, we know that the $p$-value must be smaller than $0.05$ or 5%."
   ]
  },
  {
   "cell_type": "markdown",
   "metadata": {},
   "source": [
    "### Another Explanation of p-Values\n",
    "\n",
    "The $p$-value is the probability of observing a value as extreme or more extreme than the result given that the null hypothesis is true.\n",
    "\n",
    "In the context of the normal distribution, this refers to the probability of observing a Z-score whose absolute value is as high or higher than the Z-score of interest.\n",
    "\n",
    "Suppose we want to find the $p$-value of an observation 2 standard deviations larger than the mean. This means we are looking for anything with $|z| \\ge 2$.\n",
    "\n",
    "Graphically, the $p$-value gives the probability of an observation that is at least as far away from the mean or further. This plot shows a standard normal distribution (centered at $z = 0$ with a standard deviation of $1$). The shaded tails are the region of the graph that are 2 standard deviations or more away from the mean.\n",
    "\n",
    "The right tail can be found with `1 - pnorm(2)`. We want to have both tails, though, because we want to find the probability of any observation as far away from the mean or farther, in either direction. (This is what's meant by a two-tailed $p$-value.) Because the distribution is symmetrical, the right and left tails are the same size and we know that our desired value is just `2 * (1 - pnorm(2))`.\n",
    "\n",
    "Recall that, by default, `pnorm()` gives the CDF for a normal distribution with a mean of $\\mu = 0$ and standard deviation of $\\sigma = 1$. To find $p$-values for a given $z$-score $z$ in a normal distribution with mean $\\mu$ and standard deviation $\\sigma$, use `2 * (1 - pnorm(z, μ, σ))` instead."
   ]
  }
 ],
 "metadata": {
  "kernelspec": {
   "display_name": "Julia 1.9.3",
   "language": "julia",
   "name": "julia-1.9"
  },
  "language_info": {
   "file_extension": ".jl",
   "mimetype": "application/julia",
   "name": "julia",
   "version": "1.9.3"
  },
  "orig_nbformat": 4
 },
 "nbformat": 4,
 "nbformat_minor": 2
}
