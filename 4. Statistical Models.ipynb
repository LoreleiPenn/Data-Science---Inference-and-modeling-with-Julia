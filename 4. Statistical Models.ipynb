{
 "cells": [
  {
   "cell_type": "markdown",
   "metadata": {},
   "source": [
    "# Section 4: Statistical Models"
   ]
  },
  {
   "cell_type": "markdown",
   "metadata": {},
   "source": [
    "In Section 4, you will look at statistical models in the context of election polling and forecasting.\n",
    "\n",
    "After completing Section 4, you will be able to:\n",
    "\n",
    "- Understand how aggregating data from different sources, as poll aggregators do for poll data, can improve the precision of a prediction.\n",
    "- Understand how to fit a multilevel model to the data to forecast, for example, election results.\n",
    "- Explain why a simple aggregation of data is insufficient to combine results because of factors such as pollster bias.\n",
    "- Use a data-driven model to account for additional types of sampling variability such as pollster-to-pollster variability.\n",
    "\n",
    "There is 1 assignment that uses the DataCamp platform for you to practice your coding skills.\n",
    "\n",
    "We encourage you to use R to interactively test out your answers and further your learning."
   ]
  },
  {
   "cell_type": "code",
   "execution_count": 87,
   "metadata": {},
   "outputs": [],
   "source": [
    "using Distributions\n",
    "using StatsBase\n",
    "using DataFrames\n",
    "using RDatasets\n",
    "using Dates\n",
    "using StatsPlots\n",
    "using Plots"
   ]
  },
  {
   "cell_type": "markdown",
   "metadata": {},
   "source": [
    "We start by defining the usual functions from R: `pnorm` and `qnorm`."
   ]
  },
  {
   "cell_type": "code",
   "execution_count": 2,
   "metadata": {},
   "outputs": [],
   "source": [
    "# Define the pnorm from R.\n",
    "pnorm(x::Number) = cdf(Normal(0, 1), x);\n",
    "# Define the qnorm from R.\n",
    "qnorm(x::Number) = quantile(Normal(0, 1), x);"
   ]
  },
  {
   "cell_type": "markdown",
   "metadata": {},
   "source": [
    "## Poll Aggregators"
   ]
  },
  {
   "cell_type": "markdown",
   "metadata": {},
   "source": [
    "### Defining the functions to compute the Monte Carlo simulation to generate the data\n",
    "\n",
    "We use a multiple dispatch approach to create the data related to confidence intervals.\n",
    "\n",
    "We start by creating a function which receives a value $N$ from a vector of integers and a value of probability $p$.\n",
    "\n",
    "Next we create the same function but now it will receive the whole vector of values $N_s$ and will do the computing using a MapReduce approach to concatenate all the results from evaluating the whole vector $N_s$ and transpose the matrix so we can create a table to elements $\\#N_s$\n",
    "\n",
    "Finally we use the previous function to generate 3 data frames. One which will have the row number of the data, the data, and the sample sizes. We concatenate the 3 of them horizontally and have the final data frame which will be the result of our Monte Carlo Simulation."
   ]
  },
  {
   "cell_type": "code",
   "execution_count": 3,
   "metadata": {},
   "outputs": [
    {
     "data": {
      "text/plain": [
       "createDataFrame (generic function with 1 method)"
      ]
     },
     "metadata": {},
     "output_type": "display_data"
    }
   ],
   "source": [
    "function confidenceIntervals(N::Int, p::Float64)::Vector{Float64}\n",
    "    X = sample([0, 1], Weights([1 - p, p]), N)\n",
    "    X̂ = mean(X)\n",
    "    SÊ = sqrt(X̂ * (1 - X̂) / N)\n",
    "    return 2 * [X̂, X̂ - 2 * SÊ, X̂ + 2 * SÊ] .- 1\n",
    "end\n",
    "\n",
    "function confidenceIntervals(Nₛ::Vector{Int}, p::Float64)::Matrix{Float64}\n",
    "    data = map(N -> confidenceIntervals(N, p), Nₛ)\n",
    "    return reduce(hcat, data) |> transpose\n",
    "end\n",
    "\n",
    "function createDataFrame(Nₛ::Vector{Int}, p::Float64)::DataFrame\n",
    "    n = length(Nₛ)\n",
    "    polls = DataFrame(poll = 1:n)\n",
    "    sampleSize = DataFrame(sample_size = Nₛ)\n",
    "    data = confidenceIntervals(Nₛ, p)\n",
    "    names = [:estimate, :low, :high]\n",
    "    df = DataFrame(data, names)\n",
    "    dfList = [polls, df, sampleSize]\n",
    "    return reduce(hcat, dfList)\n",
    "end"
   ]
  },
  {
   "cell_type": "markdown",
   "metadata": {},
   "source": [
    "### Define the data for the experiment\n",
    "\n",
    "Now we define the data for the experiment."
   ]
  },
  {
   "cell_type": "code",
   "execution_count": 34,
   "metadata": {},
   "outputs": [
    {
     "data": {
      "text/html": [
       "<div><div style = \"float: left;\"><span>12×5 DataFrame</span></div><div style = \"clear: both;\"></div></div><div class = \"data-frame\" style = \"overflow-x: scroll;\"><table class = \"data-frame\" style = \"margin-bottom: 6px;\"><thead><tr class = \"header\"><th class = \"rowNumber\" style = \"font-weight: bold; text-align: right;\">Row</th><th style = \"text-align: left;\">poll</th><th style = \"text-align: left;\">estimate</th><th style = \"text-align: left;\">low</th><th style = \"text-align: left;\">high</th><th style = \"text-align: left;\">sample_size</th></tr><tr class = \"subheader headerLastRow\"><th class = \"rowNumber\" style = \"font-weight: bold; text-align: right;\"></th><th title = \"Int64\" style = \"text-align: left;\">Int64</th><th title = \"Float64\" style = \"text-align: left;\">Float64</th><th title = \"Float64\" style = \"text-align: left;\">Float64</th><th title = \"Float64\" style = \"text-align: left;\">Float64</th><th title = \"Int64\" style = \"text-align: left;\">Int64</th></tr></thead><tbody><tr><td class = \"rowNumber\" style = \"font-weight: bold; text-align: right;\">1</td><td style = \"text-align: right;\">1</td><td style = \"text-align: right;\">0.046225</td><td style = \"text-align: right;\">-0.00922844</td><td style = \"text-align: right;\">0.101678</td><td style = \"text-align: right;\">1298</td></tr><tr><td class = \"rowNumber\" style = \"font-weight: bold; text-align: right;\">2</td><td style = \"text-align: right;\">2</td><td style = \"text-align: right;\">0.0131332</td><td style = \"text-align: right;\">-0.0734889</td><td style = \"text-align: right;\">0.0997554</td><td style = \"text-align: right;\">533</td></tr><tr><td class = \"rowNumber\" style = \"font-weight: bold; text-align: right;\">3</td><td style = \"text-align: right;\">3</td><td style = \"text-align: right;\">0.0506706</td><td style = \"text-align: right;\">-0.00385434</td><td style = \"text-align: right;\">0.105196</td><td style = \"text-align: right;\">1342</td></tr><tr><td class = \"rowNumber\" style = \"font-weight: bold; text-align: right;\">4</td><td style = \"text-align: right;\">4</td><td style = \"text-align: right;\">0.0234114</td><td style = \"text-align: right;\">-0.0433484</td><td style = \"text-align: right;\">0.0901711</td><td style = \"text-align: right;\">897</td></tr><tr><td class = \"rowNumber\" style = \"font-weight: bold; text-align: right;\">5</td><td style = \"text-align: right;\">5</td><td style = \"text-align: right;\">0.0310078</td><td style = \"text-align: right;\">-0.0408462</td><td style = \"text-align: right;\">0.102862</td><td style = \"text-align: right;\">774</td></tr><tr><td class = \"rowNumber\" style = \"font-weight: bold; text-align: right;\">6</td><td style = \"text-align: right;\">6</td><td style = \"text-align: right;\">0.125984</td><td style = \"text-align: right;\">0.00149297</td><td style = \"text-align: right;\">0.250476</td><td style = \"text-align: right;\">254</td></tr><tr><td class = \"rowNumber\" style = \"font-weight: bold; text-align: right;\">7</td><td style = \"text-align: right;\">7</td><td style = \"text-align: right;\">0.00492611</td><td style = \"text-align: right;\">-0.0652593</td><td style = \"text-align: right;\">0.0751115</td><td style = \"text-align: right;\">812</td></tr><tr><td class = \"rowNumber\" style = \"font-weight: bold; text-align: right;\">8</td><td style = \"text-align: right;\">8</td><td style = \"text-align: right;\">0.0802469</td><td style = \"text-align: right;\">-0.0305059</td><td style = \"text-align: right;\">0.191</td><td style = \"text-align: right;\">324</td></tr><tr><td class = \"rowNumber\" style = \"font-weight: bold; text-align: right;\">9</td><td style = \"text-align: right;\">9</td><td style = \"text-align: right;\">0.0472502</td><td style = \"text-align: right;\">-0.00835067</td><td style = \"text-align: right;\">0.102851</td><td style = \"text-align: right;\">1291</td></tr><tr><td class = \"rowNumber\" style = \"font-weight: bold; text-align: right;\">10</td><td style = \"text-align: right;\">10</td><td style = \"text-align: right;\">0.0719697</td><td style = \"text-align: right;\">0.0105836</td><td style = \"text-align: right;\">0.133356</td><td style = \"text-align: right;\">1056</td></tr><tr><td class = \"rowNumber\" style = \"font-weight: bold; text-align: right;\">11</td><td style = \"text-align: right;\">11</td><td style = \"text-align: right;\">0.00276243</td><td style = \"text-align: right;\">-0.0401515</td><td style = \"text-align: right;\">0.0456764</td><td style = \"text-align: right;\">2172</td></tr><tr><td class = \"rowNumber\" style = \"font-weight: bold; text-align: right;\">12</td><td style = \"text-align: right;\">12</td><td style = \"text-align: right;\">0.0348837</td><td style = \"text-align: right;\">-0.0531078</td><td style = \"text-align: right;\">0.122875</td><td style = \"text-align: right;\">516</td></tr></tbody></table></div>"
      ],
      "text/latex": [
       "\\begin{tabular}{r|ccccc}\n",
       "\t& poll & estimate & low & high & sample\\_size\\\\\n",
       "\t\\hline\n",
       "\t& Int64 & Float64 & Float64 & Float64 & Int64\\\\\n",
       "\t\\hline\n",
       "\t1 & 1 & 0.046225 & -0.00922844 & 0.101678 & 1298 \\\\\n",
       "\t2 & 2 & 0.0131332 & -0.0734889 & 0.0997554 & 533 \\\\\n",
       "\t3 & 3 & 0.0506706 & -0.00385434 & 0.105196 & 1342 \\\\\n",
       "\t4 & 4 & 0.0234114 & -0.0433484 & 0.0901711 & 897 \\\\\n",
       "\t5 & 5 & 0.0310078 & -0.0408462 & 0.102862 & 774 \\\\\n",
       "\t6 & 6 & 0.125984 & 0.00149297 & 0.250476 & 254 \\\\\n",
       "\t7 & 7 & 0.00492611 & -0.0652593 & 0.0751115 & 812 \\\\\n",
       "\t8 & 8 & 0.0802469 & -0.0305059 & 0.191 & 324 \\\\\n",
       "\t9 & 9 & 0.0472502 & -0.00835067 & 0.102851 & 1291 \\\\\n",
       "\t10 & 10 & 0.0719697 & 0.0105836 & 0.133356 & 1056 \\\\\n",
       "\t11 & 11 & 0.00276243 & -0.0401515 & 0.0456764 & 2172 \\\\\n",
       "\t12 & 12 & 0.0348837 & -0.0531078 & 0.122875 & 516 \\\\\n",
       "\\end{tabular}\n"
      ],
      "text/plain": [
       "\u001b[1m12×5 DataFrame\u001b[0m\n",
       "\u001b[1m Row \u001b[0m│\u001b[1m poll  \u001b[0m\u001b[1m estimate   \u001b[0m\u001b[1m low         \u001b[0m\u001b[1m high      \u001b[0m\u001b[1m sample_size \u001b[0m\n",
       "     │\u001b[90m Int64 \u001b[0m\u001b[90m Float64    \u001b[0m\u001b[90m Float64     \u001b[0m\u001b[90m Float64   \u001b[0m\u001b[90m Int64       \u001b[0m\n",
       "─────┼────────────────────────────────────────────────────────\n",
       "   1 │     1  0.046225    -0.00922844  0.101678          1298\n",
       "   2 │     2  0.0131332   -0.0734889   0.0997554          533\n",
       "   3 │     3  0.0506706   -0.00385434  0.105196          1342\n",
       "   4 │     4  0.0234114   -0.0433484   0.0901711          897\n",
       "   5 │     5  0.0310078   -0.0408462   0.102862           774\n",
       "   6 │     6  0.125984     0.00149297  0.250476           254\n",
       "   7 │     7  0.00492611  -0.0652593   0.0751115          812\n",
       "   8 │     8  0.0802469   -0.0305059   0.191              324\n",
       "   9 │     9  0.0472502   -0.00835067  0.102851          1291\n",
       "  10 │    10  0.0719697    0.0105836   0.133356          1056\n",
       "  11 │    11  0.00276243  -0.0401515   0.0456764         2172\n",
       "  12 │    12  0.0348837   -0.0531078   0.122875           516"
      ]
     },
     "metadata": {},
     "output_type": "display_data"
    }
   ],
   "source": [
    "d = 0.039\n",
    "Nₛ = [1298, 533, 1342, 897, 774, 254, 812, 324, 1291, 1056, 2172, 516]\n",
    "p = (d + 1) / 2\n",
    "polls = createDataFrame(Nₛ, p)"
   ]
  },
  {
   "cell_type": "markdown",
   "metadata": {},
   "source": [
    "Now compute the *weighted average* and other stuff considering the following:\n",
    "- Sample size: $N_i$\n",
    "- Estimated: $\\hat{X}_i$\n",
    "- Weighted average: $\\hat{d}$\n",
    "- Margin of error: $\\mu_e$\n",
    "- Confidence coefficient for $\\alpha$ (equal to $5\\%$): $Z_{\\alpha/2}$\n",
    "$$\n",
    "\\begin{align*}\n",
    "    \\hat{d} & = \\frac{\\sum_{i}\\hat{X}_i \\cdot N_i}{\\sum_{i}N_i}, \\\\\n",
    "    \\hat{p} & = \\frac{1 + \\hat{d}}{2}, \\\\\n",
    "    \\mu_e & = 2 \\cdot Z_{\\alpha/2} \\cdot \\sqrt{\\frac{\\hat{p}(1 - \\hat{p})}{\\sum_{i}N_i}}\n",
    "\\end{align*}\n",
    "$$"
   ]
  },
  {
   "cell_type": "code",
   "execution_count": 40,
   "metadata": {},
   "outputs": [
    {
     "name": "stdout",
     "output_type": "stream",
     "text": [
      " >>> d̂ = 3.6\n",
      " >>> μₑ = 1.8\n",
      " >>> average interval (d̂ - μₑ, d̂ + μₑ): [0.01731050143147274, 0.0542131475169699]\n"
     ]
    }
   ],
   "source": [
    "d̂ = sum(polls.estimate .* polls.sample_size) / sum(polls.sample_size)\n",
    "# Two variants with dot product are:\n",
    "# Using directly `transpose`\n",
    "# d̂ = transpose(polls.estimate) * polls.sample_size / sum(polls.sample_size)\n",
    "# Using the adjoint operator '\n",
    "# d̂ = polls.estimate' * polls.sample_size / sum(polls.sample_size)\n",
    "p̂ = (1 + d̂) / 2\n",
    "α = 0.05\n",
    "confidence = 1 - α/2\n",
    "μₑ = 2 * qnorm(confidence) * sqrt(p̂ * (1 - p̂) / sum(polls.sample_size))\n",
    "println(\" >>> d̂ = \", round(d̂ * 100, digits = 1))\n",
    "println(\" >>> μₑ = \", round(μₑ * 100, digits = 1))\n",
    "avgInterval = [d̂ - μₑ, d̂ + μₑ];\n",
    "println(\" >>> average interval (d̂ - μₑ, d̂ + μₑ): \", avgInterval)"
   ]
  },
  {
   "cell_type": "markdown",
   "metadata": {},
   "source": [
    "## Poll Data and Pollster Bias\n",
    "\n",
    "The csv file can be downloaded from [here](https://vincentarelbundock.github.io/Rdatasets/csv/dslabs/polls_us_election_2016.csv)."
   ]
  },
  {
   "cell_type": "code",
   "execution_count": 79,
   "metadata": {},
   "outputs": [
    {
     "data": {
      "image/png": "[encoded data removed]",
      "image/svg+xml": [
       "<?xml version=\"1.0\" encoding=\"utf-8\"?>\n",
       "<svg xmlns=\"http://www.w3.org/2000/svg\" xmlns:xlink=\"http://www.w3.org/1999/xlink\" width=\"600\" height=\"400\" viewBox=\"0 0 2400 1600\">\n",
       "<defs>\n",
       "  <clipPath id=\"clip160\">\n",
       "    <rect x=\"0\" y=\"0\" width=\"2400\" height=\"1600\"/>\n",
       "  </clipPath>\n",
       "</defs>\n",
       "<path clip-path=\"url(#clip160)\" d=\"M0 1600 L2400 1600 L2400 0 L0 0  Z\" fill=\"#ffffff\" fill-rule=\"evenodd\" fill-opacity=\"1\"/>\n",
       "<defs>\n",
       "  <clipPath id=\"clip161\">\n",
       "    <rect x=\"480\" y=\"0\" width=\"1681\" height=\"1600\"/>\n",
       "  </clipPath>\n",
       "</defs>\n",
       "<path clip-path=\"url(#clip160)\" d=\"M202.227 1486.45 L2352.76 1486.45 L2352.76 47.2441 L202.227 47.2441  Z\" fill=\"#ffffff\" fill-rule=\"evenodd\" fill-opacity=\"1\"/>\n",
       "<defs>\n",
       "  <clipPath id=\"clip162\">\n",
       "    <rect x=\"202\" y=\"47\" width=\"2152\" height=\"1440\"/>\n",
       "  </clipPath>\n",
       "</defs>\n",
       "<polyline clip-path=\"url(#clip162)\" style=\"stroke:#000000; stroke-linecap:round; stroke-linejoin:round; stroke-width:2; stroke-opacity:0.1; fill:none\" points=\"440.133,1486.45 440.133,47.2441 \"/>\n",
       "<polyline clip-path=\"url(#clip162)\" style=\"stroke:#000000; stroke-linecap:round; stroke-linejoin:round; stroke-width:2; stroke-opacity:0.1; fill:none\" points=\"1038.25,1486.45 1038.25,47.2441 \"/>\n",
       "<polyline clip-path=\"url(#clip162)\" style=\"stroke:#000000; stroke-linecap:round; stroke-linejoin:round; stroke-width:2; stroke-opacity:0.1; fill:none\" points=\"1636.36,1486.45 1636.36,47.2441 \"/>\n",
       "<polyline clip-path=\"url(#clip162)\" style=\"stroke:#000000; stroke-linecap:round; stroke-linejoin:round; stroke-width:2; stroke-opacity:0.1; fill:none\" points=\"2234.47,1486.45 2234.47,47.2441 \"/>\n",
       "<polyline clip-path=\"url(#clip160)\" style=\"stroke:#000000; stroke-linecap:round; stroke-linejoin:round; stroke-width:4; stroke-opacity:1; fill:none\" points=\"202.227,1486.45 2352.76,1486.45 \"/>\n",
       "<polyline clip-path=\"url(#clip160)\" style=\"stroke:#000000; stroke-linecap:round; stroke-linejoin:round; stroke-width:4; stroke-opacity:1; fill:none\" points=\"440.133,1486.45 440.133,1467.55 \"/>\n",
       "<polyline clip-path=\"url(#clip160)\" style=\"stroke:#000000; stroke-linecap:round; stroke-linejoin:round; stroke-width:4; stroke-opacity:1; fill:none\" points=\"1038.25,1486.45 1038.25,1467.55 \"/>\n",
       "<polyline clip-path=\"url(#clip160)\" style=\"stroke:#000000; stroke-linecap:round; stroke-linejoin:round; stroke-width:4; stroke-opacity:1; fill:none\" points=\"1636.36,1486.45 1636.36,1467.55 \"/>\n",
       "<polyline clip-path=\"url(#clip160)\" style=\"stroke:#000000; stroke-linecap:round; stroke-linejoin:round; stroke-width:4; stroke-opacity:1; fill:none\" points=\"2234.47,1486.45 2234.47,1467.55 \"/>\n",
       "<path clip-path=\"url(#clip160)\" d=\"M372.078 1532.02 L401.754 1532.02 L401.754 1535.95 L372.078 1535.95 L372.078 1532.02 Z\" fill=\"#000000\" fill-rule=\"nonzero\" fill-opacity=\"1\" /><path clip-path=\"url(#clip160)\" d=\"M421.846 1517.37 Q418.235 1517.37 416.406 1520.93 Q414.601 1524.47 414.601 1531.6 Q414.601 1538.71 416.406 1542.27 Q418.235 1545.82 421.846 1545.82 Q425.48 1545.82 427.286 1542.27 Q429.115 1538.71 429.115 1531.6 Q429.115 1524.47 427.286 1520.93 Q425.48 1517.37 421.846 1517.37 M421.846 1513.66 Q427.656 1513.66 430.712 1518.27 Q433.79 1522.85 433.79 1531.6 Q433.79 1540.33 430.712 1544.94 Q427.656 1549.52 421.846 1549.52 Q416.036 1549.52 412.957 1544.94 Q409.902 1540.33 409.902 1531.6 Q409.902 1522.85 412.957 1518.27 Q416.036 1513.66 421.846 1513.66 Z\" fill=\"#000000\" fill-rule=\"nonzero\" fill-opacity=\"1\" /><path clip-path=\"url(#clip160)\" d=\"M442.008 1542.97 L446.892 1542.97 L446.892 1548.85 L442.008 1548.85 L442.008 1542.97 Z\" fill=\"#000000\" fill-rule=\"nonzero\" fill-opacity=\"1\" /><path clip-path=\"url(#clip160)\" d=\"M467.077 1517.37 Q463.466 1517.37 461.638 1520.93 Q459.832 1524.47 459.832 1531.6 Q459.832 1538.71 461.638 1542.27 Q463.466 1545.82 467.077 1545.82 Q470.712 1545.82 472.517 1542.27 Q474.346 1538.71 474.346 1531.6 Q474.346 1524.47 472.517 1520.93 Q470.712 1517.37 467.077 1517.37 M467.077 1513.66 Q472.887 1513.66 475.943 1518.27 Q479.022 1522.85 479.022 1531.6 Q479.022 1540.33 475.943 1544.94 Q472.887 1549.52 467.077 1549.52 Q461.267 1549.52 458.188 1544.94 Q455.133 1540.33 455.133 1531.6 Q455.133 1522.85 458.188 1518.27 Q461.267 1513.66 467.077 1513.66 Z\" fill=\"#000000\" fill-rule=\"nonzero\" fill-opacity=\"1\" /><path clip-path=\"url(#clip160)\" d=\"M487.286 1514.29 L505.642 1514.29 L505.642 1518.22 L491.568 1518.22 L491.568 1526.7 Q492.586 1526.35 493.605 1526.19 Q494.623 1526 495.642 1526 Q501.429 1526 504.809 1529.17 Q508.188 1532.34 508.188 1537.76 Q508.188 1543.34 504.716 1546.44 Q501.244 1549.52 494.924 1549.52 Q492.748 1549.52 490.48 1549.15 Q488.235 1548.78 485.827 1548.04 L485.827 1543.34 Q487.911 1544.47 490.133 1545.03 Q492.355 1545.58 494.832 1545.58 Q498.836 1545.58 501.174 1543.48 Q503.512 1541.37 503.512 1537.76 Q503.512 1534.15 501.174 1532.04 Q498.836 1529.94 494.832 1529.94 Q492.957 1529.94 491.082 1530.35 Q489.23 1530.77 487.286 1531.65 L487.286 1514.29 Z\" fill=\"#000000\" fill-rule=\"nonzero\" fill-opacity=\"1\" /><path clip-path=\"url(#clip160)\" d=\"M1000.55 1517.37 Q996.939 1517.37 995.11 1520.93 Q993.304 1524.47 993.304 1531.6 Q993.304 1538.71 995.11 1542.27 Q996.939 1545.82 1000.55 1545.82 Q1004.18 1545.82 1005.99 1542.27 Q1007.82 1538.71 1007.82 1531.6 Q1007.82 1524.47 1005.99 1520.93 Q1004.18 1517.37 1000.55 1517.37 M1000.55 1513.66 Q1006.36 1513.66 1009.42 1518.27 Q1012.49 1522.85 1012.49 1531.6 Q1012.49 1540.33 1009.42 1544.94 Q1006.36 1549.52 1000.55 1549.52 Q994.74 1549.52 991.661 1544.94 Q988.605 1540.33 988.605 1531.6 Q988.605 1522.85 991.661 1518.27 Q994.74 1513.66 1000.55 1513.66 Z\" fill=\"#000000\" fill-rule=\"nonzero\" fill-opacity=\"1\" /><path clip-path=\"url(#clip160)\" d=\"M1020.71 1542.97 L1025.6 1542.97 L1025.6 1548.85 L1020.71 1548.85 L1020.71 1542.97 Z\" fill=\"#000000\" fill-rule=\"nonzero\" fill-opacity=\"1\" /><path clip-path=\"url(#clip160)\" d=\"M1045.78 1517.37 Q1042.17 1517.37 1040.34 1520.93 Q1038.54 1524.47 1038.54 1531.6 Q1038.54 1538.71 1040.34 1542.27 Q1042.17 1545.82 1045.78 1545.82 Q1049.42 1545.82 1051.22 1542.27 Q1053.05 1538.71 1053.05 1531.6 Q1053.05 1524.47 1051.22 1520.93 Q1049.42 1517.37 1045.78 1517.37 M1045.78 1513.66 Q1051.59 1513.66 1054.65 1518.27 Q1057.73 1522.85 1057.73 1531.6 Q1057.73 1540.33 1054.65 1544.94 Q1051.59 1549.52 1045.78 1549.52 Q1039.97 1549.52 1036.89 1544.94 Q1033.84 1540.33 1033.84 1531.6 Q1033.84 1522.85 1036.89 1518.27 Q1039.97 1513.66 1045.78 1513.66 Z\" fill=\"#000000\" fill-rule=\"nonzero\" fill-opacity=\"1\" /><path clip-path=\"url(#clip160)\" d=\"M1075.94 1517.37 Q1072.33 1517.37 1070.5 1520.93 Q1068.7 1524.47 1068.7 1531.6 Q1068.7 1538.71 1070.5 1542.27 Q1072.33 1545.82 1075.94 1545.82 Q1079.58 1545.82 1081.38 1542.27 Q1083.21 1538.71 1083.21 1531.6 Q1083.21 1524.47 1081.38 1520.93 Q1079.58 1517.37 1075.94 1517.37 M1075.94 1513.66 Q1081.75 1513.66 1084.81 1518.27 Q1087.89 1522.85 1087.89 1531.6 Q1087.89 1540.33 1084.81 1544.94 Q1081.75 1549.52 1075.94 1549.52 Q1070.13 1549.52 1067.05 1544.94 Q1064 1540.33 1064 1531.6 Q1064 1522.85 1067.05 1518.27 Q1070.13 1513.66 1075.94 1513.66 Z\" fill=\"#000000\" fill-rule=\"nonzero\" fill-opacity=\"1\" /><path clip-path=\"url(#clip160)\" d=\"M1599.16 1517.37 Q1595.55 1517.37 1593.72 1520.93 Q1591.92 1524.47 1591.92 1531.6 Q1591.92 1538.71 1593.72 1542.27 Q1595.55 1545.82 1599.16 1545.82 Q1602.8 1545.82 1604.6 1542.27 Q1606.43 1538.71 1606.43 1531.6 Q1606.43 1524.47 1604.6 1520.93 Q1602.8 1517.37 1599.16 1517.37 M1599.16 1513.66 Q1604.97 1513.66 1608.03 1518.27 Q1611.11 1522.85 1611.11 1531.6 Q1611.11 1540.33 1608.03 1544.94 Q1604.97 1549.52 1599.16 1549.52 Q1593.35 1549.52 1590.27 1544.94 Q1587.22 1540.33 1587.22 1531.6 Q1587.22 1522.85 1590.27 1518.27 Q1593.35 1513.66 1599.16 1513.66 Z\" fill=\"#000000\" fill-rule=\"nonzero\" fill-opacity=\"1\" /><path clip-path=\"url(#clip160)\" d=\"M1619.32 1542.97 L1624.21 1542.97 L1624.21 1548.85 L1619.32 1548.85 L1619.32 1542.97 Z\" fill=\"#000000\" fill-rule=\"nonzero\" fill-opacity=\"1\" /><path clip-path=\"url(#clip160)\" d=\"M1644.39 1517.37 Q1640.78 1517.37 1638.95 1520.93 Q1637.15 1524.47 1637.15 1531.6 Q1637.15 1538.71 1638.95 1542.27 Q1640.78 1545.82 1644.39 1545.82 Q1648.03 1545.82 1649.83 1542.27 Q1651.66 1538.71 1651.66 1531.6 Q1651.66 1524.47 1649.83 1520.93 Q1648.03 1517.37 1644.39 1517.37 M1644.39 1513.66 Q1650.2 1513.66 1653.26 1518.27 Q1656.34 1522.85 1656.34 1531.6 Q1656.34 1540.33 1653.26 1544.94 Q1650.2 1549.52 1644.39 1549.52 Q1638.58 1549.52 1635.5 1544.94 Q1632.45 1540.33 1632.45 1531.6 Q1632.45 1522.85 1635.5 1518.27 Q1638.58 1513.66 1644.39 1513.66 Z\" fill=\"#000000\" fill-rule=\"nonzero\" fill-opacity=\"1\" /><path clip-path=\"url(#clip160)\" d=\"M1664.6 1514.29 L1682.96 1514.29 L1682.96 1518.22 L1668.88 1518.22 L1668.88 1526.7 Q1669.9 1526.35 1670.92 1526.19 Q1671.94 1526 1672.96 1526 Q1678.74 1526 1682.12 1529.17 Q1685.5 1532.34 1685.5 1537.76 Q1685.5 1543.34 1682.03 1546.44 Q1678.56 1549.52 1672.24 1549.52 Q1670.06 1549.52 1667.79 1549.15 Q1665.55 1548.78 1663.14 1548.04 L1663.14 1543.34 Q1665.23 1544.47 1667.45 1545.03 Q1669.67 1545.58 1672.15 1545.58 Q1676.15 1545.58 1678.49 1543.48 Q1680.83 1541.37 1680.83 1537.76 Q1680.83 1534.15 1678.49 1532.04 Q1676.15 1529.94 1672.15 1529.94 Q1670.27 1529.94 1668.4 1530.35 Q1666.54 1530.77 1664.6 1531.65 L1664.6 1514.29 Z\" fill=\"#000000\" fill-rule=\"nonzero\" fill-opacity=\"1\" /><path clip-path=\"url(#clip160)\" d=\"M2196.78 1517.37 Q2193.17 1517.37 2191.34 1520.93 Q2189.53 1524.47 2189.53 1531.6 Q2189.53 1538.71 2191.34 1542.27 Q2193.17 1545.82 2196.78 1545.82 Q2200.41 1545.82 2202.22 1542.27 Q2204.04 1538.71 2204.04 1531.6 Q2204.04 1524.47 2202.22 1520.93 Q2200.41 1517.37 2196.78 1517.37 M2196.78 1513.66 Q2202.59 1513.66 2205.64 1518.27 Q2208.72 1522.85 2208.72 1531.6 Q2208.72 1540.33 2205.64 1544.94 Q2202.59 1549.52 2196.78 1549.52 Q2190.97 1549.52 2187.89 1544.94 Q2184.83 1540.33 2184.83 1531.6 Q2184.83 1522.85 2187.89 1518.27 Q2190.97 1513.66 2196.78 1513.66 Z\" fill=\"#000000\" fill-rule=\"nonzero\" fill-opacity=\"1\" /><path clip-path=\"url(#clip160)\" d=\"M2216.94 1542.97 L2221.82 1542.97 L2221.82 1548.85 L2216.94 1548.85 L2216.94 1542.97 Z\" fill=\"#000000\" fill-rule=\"nonzero\" fill-opacity=\"1\" /><path clip-path=\"url(#clip160)\" d=\"M2232.82 1544.91 L2240.46 1544.91 L2240.46 1518.55 L2232.15 1520.21 L2232.15 1515.95 L2240.41 1514.29 L2245.09 1514.29 L2245.09 1544.91 L2252.73 1544.91 L2252.73 1548.85 L2232.82 1548.85 L2232.82 1544.91 Z\" fill=\"#000000\" fill-rule=\"nonzero\" fill-opacity=\"1\" /><path clip-path=\"url(#clip160)\" d=\"M2272.17 1517.37 Q2268.56 1517.37 2266.73 1520.93 Q2264.92 1524.47 2264.92 1531.6 Q2264.92 1538.71 2266.73 1542.27 Q2268.56 1545.82 2272.17 1545.82 Q2275.8 1545.82 2277.61 1542.27 Q2279.44 1538.71 2279.44 1531.6 Q2279.44 1524.47 2277.61 1520.93 Q2275.8 1517.37 2272.17 1517.37 M2272.17 1513.66 Q2277.98 1513.66 2281.04 1518.27 Q2284.11 1522.85 2284.11 1531.6 Q2284.11 1540.33 2281.04 1544.94 Q2277.98 1549.52 2272.17 1549.52 Q2266.36 1549.52 2263.28 1544.94 Q2260.23 1540.33 2260.23 1531.6 Q2260.23 1522.85 2263.28 1518.27 Q2266.36 1513.66 2272.17 1513.66 Z\" fill=\"#000000\" fill-rule=\"nonzero\" fill-opacity=\"1\" /><polyline clip-path=\"url(#clip162)\" style=\"stroke:#000000; stroke-linecap:round; stroke-linejoin:round; stroke-width:2; stroke-opacity:0.1; fill:none\" points=\"202.227,1486.45 2352.76,1486.45 \"/>\n",
       "<polyline clip-path=\"url(#clip162)\" style=\"stroke:#000000; stroke-linecap:round; stroke-linejoin:round; stroke-width:2; stroke-opacity:0.1; fill:none\" points=\"202.227,1006.71 2352.76,1006.71 \"/>\n",
       "<polyline clip-path=\"url(#clip162)\" style=\"stroke:#000000; stroke-linecap:round; stroke-linejoin:round; stroke-width:2; stroke-opacity:0.1; fill:none\" points=\"202.227,526.979 2352.76,526.979 \"/>\n",
       "<polyline clip-path=\"url(#clip162)\" style=\"stroke:#000000; stroke-linecap:round; stroke-linejoin:round; stroke-width:2; stroke-opacity:0.1; fill:none\" points=\"202.227,47.2441 2352.76,47.2441 \"/>\n",
       "<polyline clip-path=\"url(#clip160)\" style=\"stroke:#000000; stroke-linecap:round; stroke-linejoin:round; stroke-width:4; stroke-opacity:1; fill:none\" points=\"202.227,1486.45 202.227,47.2441 \"/>\n",
       "<polyline clip-path=\"url(#clip160)\" style=\"stroke:#000000; stroke-linecap:round; stroke-linejoin:round; stroke-width:4; stroke-opacity:1; fill:none\" points=\"202.227,1486.45 221.125,1486.45 \"/>\n",
       "<polyline clip-path=\"url(#clip160)\" style=\"stroke:#000000; stroke-linecap:round; stroke-linejoin:round; stroke-width:4; stroke-opacity:1; fill:none\" points=\"202.227,1006.71 221.125,1006.71 \"/>\n",
       "<polyline clip-path=\"url(#clip160)\" style=\"stroke:#000000; stroke-linecap:round; stroke-linejoin:round; stroke-width:4; stroke-opacity:1; fill:none\" points=\"202.227,526.979 221.125,526.979 \"/>\n",
       "<polyline clip-path=\"url(#clip160)\" style=\"stroke:#000000; stroke-linecap:round; stroke-linejoin:round; stroke-width:4; stroke-opacity:1; fill:none\" points=\"202.227,47.2441 221.125,47.2441 \"/>\n",
       "<path clip-path=\"url(#clip160)\" d=\"M154.283 1472.25 Q150.672 1472.25 148.843 1475.81 Q147.038 1479.35 147.038 1486.48 Q147.038 1493.59 148.843 1497.15 Q150.672 1500.7 154.283 1500.7 Q157.917 1500.7 159.723 1497.15 Q161.552 1493.59 161.552 1486.48 Q161.552 1479.35 159.723 1475.81 Q157.917 1472.25 154.283 1472.25 M154.283 1468.54 Q160.093 1468.54 163.149 1473.15 Q166.227 1477.73 166.227 1486.48 Q166.227 1495.21 163.149 1499.82 Q160.093 1504.4 154.283 1504.4 Q148.473 1504.4 145.394 1499.82 Q142.339 1495.21 142.339 1486.48 Q142.339 1477.73 145.394 1473.15 Q148.473 1468.54 154.283 1468.54 Z\" fill=\"#000000\" fill-rule=\"nonzero\" fill-opacity=\"1\" /><path clip-path=\"url(#clip160)\" d=\"M145.325 989.433 L163.681 989.433 L163.681 993.368 L149.607 993.368 L149.607 1001.84 Q150.626 1001.49 151.644 1001.33 Q152.663 1001.15 153.681 1001.15 Q159.468 1001.15 162.848 1004.32 Q166.227 1007.49 166.227 1012.91 Q166.227 1018.48 162.755 1021.59 Q159.283 1024.66 152.964 1024.66 Q150.788 1024.66 148.519 1024.29 Q146.274 1023.92 143.866 1023.18 L143.866 1018.48 Q145.95 1019.62 148.172 1020.17 Q150.394 1020.73 152.871 1020.73 Q156.876 1020.73 159.214 1018.62 Q161.552 1016.52 161.552 1012.91 Q161.552 1009.29 159.214 1007.19 Q156.876 1005.08 152.871 1005.08 Q150.996 1005.08 149.121 1005.5 Q147.269 1005.91 145.325 1006.79 L145.325 989.433 Z\" fill=\"#000000\" fill-rule=\"nonzero\" fill-opacity=\"1\" /><path clip-path=\"url(#clip160)\" d=\"M114.931 540.324 L122.57 540.324 L122.57 513.958 L114.26 515.625 L114.26 511.365 L122.524 509.699 L127.2 509.699 L127.2 540.324 L134.839 540.324 L134.839 544.259 L114.931 544.259 L114.931 540.324 Z\" fill=\"#000000\" fill-rule=\"nonzero\" fill-opacity=\"1\" /><path clip-path=\"url(#clip160)\" d=\"M154.283 512.777 Q150.672 512.777 148.843 516.342 Q147.038 519.884 147.038 527.013 Q147.038 534.12 148.843 537.685 Q150.672 541.226 154.283 541.226 Q157.917 541.226 159.723 537.685 Q161.552 534.12 161.552 527.013 Q161.552 519.884 159.723 516.342 Q157.917 512.777 154.283 512.777 M154.283 509.074 Q160.093 509.074 163.149 513.68 Q166.227 518.263 166.227 527.013 Q166.227 535.74 163.149 540.347 Q160.093 544.93 154.283 544.93 Q148.473 544.93 145.394 540.347 Q142.339 535.74 142.339 527.013 Q142.339 518.263 145.394 513.68 Q148.473 509.074 154.283 509.074 Z\" fill=\"#000000\" fill-rule=\"nonzero\" fill-opacity=\"1\" /><path clip-path=\"url(#clip160)\" d=\"M115.927 60.5889 L123.566 60.5889 L123.566 34.2233 L115.256 35.89 L115.256 31.6308 L123.519 29.9641 L128.195 29.9641 L128.195 60.5889 L135.834 60.5889 L135.834 64.5241 L115.927 64.5241 L115.927 60.5889 Z\" fill=\"#000000\" fill-rule=\"nonzero\" fill-opacity=\"1\" /><path clip-path=\"url(#clip160)\" d=\"M145.325 29.9641 L163.681 29.9641 L163.681 33.8993 L149.607 33.8993 L149.607 42.3714 Q150.626 42.0242 151.644 41.8622 Q152.663 41.677 153.681 41.677 Q159.468 41.677 162.848 44.8483 Q166.227 48.0196 166.227 53.4362 Q166.227 59.0149 162.755 62.1167 Q159.283 65.1954 152.964 65.1954 Q150.788 65.1954 148.519 64.825 Q146.274 64.4547 143.866 63.7139 L143.866 59.0149 Q145.95 60.1491 148.172 60.7047 Q150.394 61.2602 152.871 61.2602 Q156.876 61.2602 159.214 59.1538 Q161.552 57.0473 161.552 53.4362 Q161.552 49.8251 159.214 47.7186 Q156.876 45.6122 152.871 45.6122 Q150.996 45.6122 149.121 46.0288 Q147.269 46.4455 145.325 47.3251 L145.325 29.9641 Z\" fill=\"#000000\" fill-rule=\"nonzero\" fill-opacity=\"1\" /><path clip-path=\"url(#clip160)\" d=\"M16.4842 931.049 L16.4842 903.741 L21.895 903.741 L21.895 924.62 L35.8996 924.62 L35.8996 905.778 L41.3104 905.778 L41.3104 924.62 L64.0042 924.62 L64.0042 931.049 L16.4842 931.049 Z\" fill=\"#000000\" fill-rule=\"nonzero\" fill-opacity=\"1\" /><path clip-path=\"url(#clip160)\" d=\"M33.8307 877.896 Q33.2578 878.882 33.0032 880.06 Q32.7167 881.206 32.7167 882.606 Q32.7167 887.572 35.9632 890.245 Q39.1779 892.887 45.2253 892.887 L64.0042 892.887 L64.0042 898.775 L28.3562 898.775 L28.3562 892.887 L33.8944 892.887 Q30.6479 891.041 29.0883 888.081 Q27.4968 885.121 27.4968 880.888 Q27.4968 880.283 27.5923 879.551 Q27.656 878.819 27.8151 877.928 L33.8307 877.896 Z\" fill=\"#000000\" fill-rule=\"nonzero\" fill-opacity=\"1\" /><path clip-path=\"url(#clip160)\" d=\"M44.7161 842.693 L47.5806 842.693 L47.5806 869.62 Q53.6281 869.238 56.8109 865.992 Q59.9619 862.714 59.9619 856.889 Q59.9619 853.515 59.1344 850.364 Q58.3069 847.181 56.6518 844.062 L62.1899 844.062 Q63.5267 847.213 64.227 850.523 Q64.9272 853.833 64.9272 857.239 Q64.9272 865.769 59.9619 870.766 Q54.9967 875.731 46.5303 875.731 Q37.7774 875.731 32.6531 871.021 Q27.4968 866.278 27.4968 858.258 Q27.4968 851.064 32.1438 846.895 Q36.7589 842.693 44.7161 842.693 M42.9973 848.55 Q38.1912 848.613 35.3266 851.255 Q32.4621 853.865 32.4621 858.194 Q32.4621 863.095 35.2312 866.056 Q38.0002 868.984 43.0292 869.429 L42.9973 848.55 Z\" fill=\"#000000\" fill-rule=\"nonzero\" fill-opacity=\"1\" /><path clip-path=\"url(#clip160)\" d=\"M46.212 829.58 Q52.6732 829.58 56.3653 826.938 Q60.0256 824.265 60.0256 819.618 Q60.0256 814.971 56.3653 812.297 Q52.6732 809.624 46.212 809.624 Q39.7508 809.624 36.0905 812.297 Q32.3984 814.971 32.3984 819.618 Q32.3984 824.265 36.0905 826.938 Q39.7508 829.58 46.212 829.58 M58.657 809.624 Q61.8398 811.47 63.3994 814.302 Q64.9272 817.103 64.9272 821.05 Q64.9272 827.511 59.771 831.585 Q54.6147 835.627 46.212 835.627 Q37.8093 835.627 32.6531 831.585 Q27.4968 827.511 27.4968 821.05 Q27.4968 817.103 29.0564 814.302 Q30.5842 811.47 33.7671 809.624 L28.3562 809.624 L28.3562 803.767 L77.5631 803.767 L77.5631 809.624 L58.657 809.624 Z\" fill=\"#000000\" fill-rule=\"nonzero\" fill-opacity=\"1\" /><path clip-path=\"url(#clip160)\" d=\"M49.9359 792.309 L28.3562 792.309 L28.3562 786.452 L49.7131 786.452 Q54.7739 786.452 57.3202 784.479 Q59.8346 782.506 59.8346 778.559 Q59.8346 773.816 56.8109 771.079 Q53.7872 768.31 48.5673 768.31 L28.3562 768.31 L28.3562 762.454 L64.0042 762.454 L64.0042 768.31 L58.5296 768.31 Q61.7762 770.443 63.3676 773.275 Q64.9272 776.076 64.9272 779.8 Q64.9272 785.943 61.1078 789.126 Q57.2883 792.309 49.9359 792.309 M27.4968 777.572 L27.4968 777.572 Z\" fill=\"#000000\" fill-rule=\"nonzero\" fill-opacity=\"1\" /><path clip-path=\"url(#clip160)\" d=\"M44.7161 719.899 L47.5806 719.899 L47.5806 746.826 Q53.6281 746.444 56.8109 743.197 Q59.9619 739.919 59.9619 734.094 Q59.9619 730.721 59.1344 727.57 Q58.3069 724.387 56.6518 721.268 L62.1899 721.268 Q63.5267 724.419 64.227 727.729 Q64.9272 731.039 64.9272 734.445 Q64.9272 742.975 59.9619 747.972 Q54.9967 752.937 46.5303 752.937 Q37.7774 752.937 32.6531 748.226 Q27.4968 743.484 27.4968 735.463 Q27.4968 728.27 32.1438 724.1 Q36.7589 719.899 44.7161 719.899 M42.9973 725.755 Q38.1912 725.819 35.3266 728.461 Q32.4621 731.071 32.4621 735.399 Q32.4621 740.301 35.2312 743.261 Q38.0002 746.189 43.0292 746.635 L42.9973 725.755 Z\" fill=\"#000000\" fill-rule=\"nonzero\" fill-opacity=\"1\" /><path clip-path=\"url(#clip160)\" d=\"M42.4881 680.654 L64.0042 680.654 L64.0042 686.511 L42.679 686.511 Q37.6183 686.511 35.1038 688.484 Q32.5894 690.458 32.5894 694.404 Q32.5894 699.147 35.6131 701.884 Q38.6368 704.621 43.8567 704.621 L64.0042 704.621 L64.0042 710.509 L28.3562 710.509 L28.3562 704.621 L33.8944 704.621 Q30.6797 702.521 29.0883 699.688 Q27.4968 696.823 27.4968 693.099 Q27.4968 686.956 31.3163 683.805 Q35.1038 680.654 42.4881 680.654 Z\" fill=\"#000000\" fill-rule=\"nonzero\" fill-opacity=\"1\" /><path clip-path=\"url(#clip160)\" d=\"M29.7248 643.319 L35.1993 643.319 Q33.8307 645.802 33.1623 648.317 Q32.4621 650.799 32.4621 653.345 Q32.4621 659.043 36.0905 662.194 Q39.6872 665.345 46.212 665.345 Q52.7369 665.345 56.3653 662.194 Q59.9619 659.043 59.9619 653.345 Q59.9619 650.799 59.2935 648.317 Q58.5933 645.802 57.2247 643.319 L62.6355 643.319 Q63.7814 645.77 64.3543 648.412 Q64.9272 651.022 64.9272 653.982 Q64.9272 662.035 59.8664 666.777 Q54.8057 671.52 46.212 671.52 Q37.491 671.52 32.4939 666.745 Q27.4968 661.939 27.4968 653.6 Q27.4968 650.895 28.0697 648.317 Q28.6108 645.738 29.7248 643.319 Z\" fill=\"#000000\" fill-rule=\"nonzero\" fill-opacity=\"1\" /><path clip-path=\"url(#clip160)\" d=\"M67.3143 618.302 Q73.68 620.785 75.6216 623.14 Q77.5631 625.495 77.5631 629.442 L77.5631 634.121 L72.6615 634.121 L72.6615 630.684 Q72.6615 628.265 71.5157 626.928 Q70.3699 625.591 66.1048 623.968 L63.4312 622.917 L28.3562 637.336 L28.3562 631.129 L56.238 619.989 L28.3562 608.849 L28.3562 602.643 L67.3143 618.302 Z\" fill=\"#000000\" fill-rule=\"nonzero\" fill-opacity=\"1\" /><path clip-path=\"url(#clip162)\" d=\"M320.51 1006.71 L320.51 1486.45 L559.756 1486.45 L559.756 1006.71 L320.51 1006.71 L320.51 1006.71  Z\" fill=\"#009af9\" fill-rule=\"evenodd\" fill-opacity=\"1\"/>\n",
       "<polyline clip-path=\"url(#clip162)\" style=\"stroke:#000000; stroke-linecap:round; stroke-linejoin:round; stroke-width:4.8; stroke-opacity:1; fill:none\" points=\"320.51,1006.71 320.51,1486.45 559.756,1486.45 559.756,1006.71 320.51,1006.71 \"/>\n",
       "<path clip-path=\"url(#clip162)\" d=\"M559.756 1102.66 L559.756 1486.45 L799.001 1486.45 L799.001 1102.66 L559.756 1102.66 L559.756 1102.66  Z\" fill=\"#009af9\" fill-rule=\"evenodd\" fill-opacity=\"1\"/>\n",
       "<polyline clip-path=\"url(#clip162)\" style=\"stroke:#000000; stroke-linecap:round; stroke-linejoin:round; stroke-width:4.8; stroke-opacity:1; fill:none\" points=\"559.756,1102.66 559.756,1486.45 799.001,1486.45 799.001,1102.66 559.756,1102.66 \"/>\n",
       "<path clip-path=\"url(#clip162)\" d=\"M799.001 1102.66 L799.001 1486.45 L1038.25 1486.45 L1038.25 1102.66 L799.001 1102.66 L799.001 1102.66  Z\" fill=\"#009af9\" fill-rule=\"evenodd\" fill-opacity=\"1\"/>\n",
       "<polyline clip-path=\"url(#clip162)\" style=\"stroke:#000000; stroke-linecap:round; stroke-linejoin:round; stroke-width:4.8; stroke-opacity:1; fill:none\" points=\"799.001,1102.66 799.001,1486.45 1038.25,1486.45 1038.25,1102.66 799.001,1102.66 \"/>\n",
       "<path clip-path=\"url(#clip162)\" d=\"M1038.25 718.873 L1038.25 1486.45 L1277.49 1486.45 L1277.49 718.873 L1038.25 718.873 L1038.25 718.873  Z\" fill=\"#009af9\" fill-rule=\"evenodd\" fill-opacity=\"1\"/>\n",
       "<polyline clip-path=\"url(#clip162)\" style=\"stroke:#000000; stroke-linecap:round; stroke-linejoin:round; stroke-width:4.8; stroke-opacity:1; fill:none\" points=\"1038.25,718.873 1038.25,1486.45 1277.49,1486.45 1277.49,718.873 1038.25,718.873 \"/>\n",
       "<path clip-path=\"url(#clip162)\" d=\"M1277.49 47.2441 L1277.49 1486.45 L1516.74 1486.45 L1516.74 47.2441 L1277.49 47.2441 L1277.49 47.2441  Z\" fill=\"#009af9\" fill-rule=\"evenodd\" fill-opacity=\"1\"/>\n",
       "<polyline clip-path=\"url(#clip162)\" style=\"stroke:#000000; stroke-linecap:round; stroke-linejoin:round; stroke-width:4.8; stroke-opacity:1; fill:none\" points=\"1277.49,47.2441 1277.49,1486.45 1516.74,1486.45 1516.74,47.2441 1277.49,47.2441 \"/>\n",
       "<path clip-path=\"url(#clip162)\" d=\"M1516.74 718.873 L1516.74 1486.45 L1755.98 1486.45 L1755.98 718.873 L1516.74 718.873 L1516.74 718.873  Z\" fill=\"#009af9\" fill-rule=\"evenodd\" fill-opacity=\"1\"/>\n",
       "<polyline clip-path=\"url(#clip162)\" style=\"stroke:#000000; stroke-linecap:round; stroke-linejoin:round; stroke-width:4.8; stroke-opacity:1; fill:none\" points=\"1516.74,718.873 1516.74,1486.45 1755.98,1486.45 1755.98,718.873 1516.74,718.873 \"/>\n",
       "<path clip-path=\"url(#clip162)\" d=\"M1755.98 1102.66 L1755.98 1486.45 L1995.23 1486.45 L1995.23 1102.66 L1755.98 1102.66 L1755.98 1102.66  Z\" fill=\"#009af9\" fill-rule=\"evenodd\" fill-opacity=\"1\"/>\n",
       "<polyline clip-path=\"url(#clip162)\" style=\"stroke:#000000; stroke-linecap:round; stroke-linejoin:round; stroke-width:4.8; stroke-opacity:1; fill:none\" points=\"1755.98,1102.66 1755.98,1486.45 1995.23,1486.45 1995.23,1102.66 1755.98,1102.66 \"/>\n",
       "<path clip-path=\"url(#clip162)\" d=\"M1995.23 1390.5 L1995.23 1486.45 L2234.47 1486.45 L2234.47 1390.5 L1995.23 1390.5 L1995.23 1390.5  Z\" fill=\"#009af9\" fill-rule=\"evenodd\" fill-opacity=\"1\"/>\n",
       "<polyline clip-path=\"url(#clip162)\" style=\"stroke:#000000; stroke-linecap:round; stroke-linejoin:round; stroke-width:4.8; stroke-opacity:1; fill:none\" points=\"1995.23,1390.5 1995.23,1486.45 2234.47,1486.45 2234.47,1390.5 1995.23,1390.5 \"/>\n",
       "<circle clip-path=\"url(#clip162)\" style=\"fill:#009af9; stroke:none; fill-opacity:0\" cx=\"440.133\" cy=\"1006.71\" r=\"2\"/>\n",
       "<circle clip-path=\"url(#clip162)\" style=\"fill:#009af9; stroke:none; fill-opacity:0\" cx=\"679.378\" cy=\"1102.66\" r=\"2\"/>\n",
       "<circle clip-path=\"url(#clip162)\" style=\"fill:#009af9; stroke:none; fill-opacity:0\" cx=\"918.624\" cy=\"1102.66\" r=\"2\"/>\n",
       "<circle clip-path=\"url(#clip162)\" style=\"fill:#009af9; stroke:none; fill-opacity:0\" cx=\"1157.87\" cy=\"718.873\" r=\"2\"/>\n",
       "<circle clip-path=\"url(#clip162)\" style=\"fill:#009af9; stroke:none; fill-opacity:0\" cx=\"1397.11\" cy=\"47.2441\" r=\"2\"/>\n",
       "<circle clip-path=\"url(#clip162)\" style=\"fill:#009af9; stroke:none; fill-opacity:0\" cx=\"1636.36\" cy=\"718.873\" r=\"2\"/>\n",
       "<circle clip-path=\"url(#clip162)\" style=\"fill:#009af9; stroke:none; fill-opacity:0\" cx=\"1875.61\" cy=\"1102.66\" r=\"2\"/>\n",
       "<circle clip-path=\"url(#clip162)\" style=\"fill:#009af9; stroke:none; fill-opacity:0\" cx=\"2114.85\" cy=\"1390.5\" r=\"2\"/>\n",
       "<path clip-path=\"url(#clip160)\" d=\"M1911.34 198.898 L2281.07 198.898 L2281.07 95.2176 L1911.34 95.2176  Z\" fill=\"#ffffff\" fill-rule=\"evenodd\" fill-opacity=\"1\"/>\n",
       "<polyline clip-path=\"url(#clip160)\" style=\"stroke:#000000; stroke-linecap:round; stroke-linejoin:round; stroke-width:4; stroke-opacity:1; fill:none\" points=\"1911.34,198.898 2281.07,198.898 2281.07,95.2176 1911.34,95.2176 1911.34,198.898 \"/>\n",
       "<path clip-path=\"url(#clip160)\" d=\"M1935.24 167.794 L2078.61 167.794 L2078.61 126.322 L1935.24 126.322 L1935.24 167.794  Z\" fill=\"#009af9\" fill-rule=\"evenodd\" fill-opacity=\"1\"/>\n",
       "<polyline clip-path=\"url(#clip160)\" style=\"stroke:#000000; stroke-linecap:round; stroke-linejoin:round; stroke-width:4.8; stroke-opacity:1; fill:none\" points=\"1935.24,167.794 2078.61,167.794 2078.61,126.322 1935.24,126.322 1935.24,167.794 \"/>\n",
       "<path clip-path=\"url(#clip160)\" d=\"M2120.93 139.176 L2120.93 143.203 Q2119.12 142.277 2117.18 141.815 Q2115.23 141.352 2113.15 141.352 Q2109.98 141.352 2108.38 142.324 Q2106.81 143.296 2106.81 145.24 Q2106.81 146.722 2107.94 147.578 Q2109.08 148.412 2112.5 149.176 L2113.96 149.5 Q2118.5 150.472 2120.4 152.254 Q2122.32 154.014 2122.32 157.185 Q2122.32 160.796 2119.45 162.902 Q2116.6 165.009 2111.6 165.009 Q2109.52 165.009 2107.25 164.592 Q2105 164.199 2102.5 163.388 L2102.5 158.99 Q2104.86 160.217 2107.15 160.842 Q2109.45 161.444 2111.69 161.444 Q2114.7 161.444 2116.32 160.426 Q2117.94 159.384 2117.94 157.509 Q2117.94 155.773 2116.76 154.847 Q2115.6 153.921 2111.65 153.064 L2110.16 152.717 Q2106.21 151.884 2104.45 150.171 Q2102.69 148.435 2102.69 145.426 Q2102.69 141.768 2105.28 139.778 Q2107.87 137.787 2112.64 137.787 Q2115 137.787 2117.09 138.134 Q2119.17 138.481 2120.93 139.176 Z\" fill=\"#000000\" fill-rule=\"nonzero\" fill-opacity=\"1\" /><path clip-path=\"url(#clip160)\" d=\"M2133.22 160.449 L2133.22 174.199 L2128.94 174.199 L2128.94 138.412 L2133.22 138.412 L2133.22 142.347 Q2134.56 140.032 2136.6 138.921 Q2138.66 137.787 2141.51 137.787 Q2146.23 137.787 2149.17 141.537 Q2152.13 145.287 2152.13 151.398 Q2152.13 157.509 2149.17 161.259 Q2146.23 165.009 2141.51 165.009 Q2138.66 165.009 2136.6 163.898 Q2134.56 162.763 2133.22 160.449 M2147.71 151.398 Q2147.71 146.699 2145.77 144.037 Q2143.84 141.352 2140.46 141.352 Q2137.08 141.352 2135.14 144.037 Q2133.22 146.699 2133.22 151.398 Q2133.22 156.097 2135.14 158.782 Q2137.08 161.444 2140.46 161.444 Q2143.84 161.444 2145.77 158.782 Q2147.71 156.097 2147.71 151.398 Z\" fill=\"#000000\" fill-rule=\"nonzero\" fill-opacity=\"1\" /><path clip-path=\"url(#clip160)\" d=\"M2174.21 142.393 Q2173.5 141.977 2172.64 141.791 Q2171.81 141.583 2170.79 141.583 Q2167.18 141.583 2165.23 143.944 Q2163.31 146.282 2163.31 150.68 L2163.31 164.338 L2159.03 164.338 L2159.03 138.412 L2163.31 138.412 L2163.31 142.44 Q2164.65 140.078 2166.81 138.944 Q2168.96 137.787 2172.04 137.787 Q2172.48 137.787 2173.01 137.856 Q2173.54 137.903 2174.19 138.018 L2174.21 142.393 Z\" fill=\"#000000\" fill-rule=\"nonzero\" fill-opacity=\"1\" /><path clip-path=\"url(#clip160)\" d=\"M2199.82 150.31 L2199.82 152.393 L2180.23 152.393 Q2180.51 156.791 2182.87 159.106 Q2185.26 161.398 2189.49 161.398 Q2191.95 161.398 2194.24 160.796 Q2196.55 160.194 2198.82 158.99 L2198.82 163.018 Q2196.53 163.99 2194.12 164.5 Q2191.71 165.009 2189.24 165.009 Q2183.03 165.009 2179.4 161.398 Q2175.79 157.787 2175.79 151.629 Q2175.79 145.264 2179.21 141.537 Q2182.66 137.787 2188.5 137.787 Q2193.73 137.787 2196.76 141.166 Q2199.82 144.523 2199.82 150.31 M2195.56 149.06 Q2195.51 145.565 2193.59 143.481 Q2191.69 141.398 2188.54 141.398 Q2184.98 141.398 2182.83 143.412 Q2180.7 145.426 2180.37 149.083 L2195.56 149.06 Z\" fill=\"#000000\" fill-rule=\"nonzero\" fill-opacity=\"1\" /><path clip-path=\"url(#clip160)\" d=\"M2218.59 151.305 Q2213.43 151.305 2211.44 152.486 Q2209.45 153.666 2209.45 156.514 Q2209.45 158.782 2210.93 160.125 Q2212.43 161.444 2215 161.444 Q2218.54 161.444 2220.67 158.944 Q2222.83 156.421 2222.83 152.254 L2222.83 151.305 L2218.59 151.305 M2227.08 149.546 L2227.08 164.338 L2222.83 164.338 L2222.83 160.402 Q2221.37 162.763 2219.19 163.898 Q2217.02 165.009 2213.87 165.009 Q2209.89 165.009 2207.52 162.787 Q2205.19 160.541 2205.19 156.791 Q2205.19 152.416 2208.1 150.194 Q2211.04 147.972 2216.85 147.972 L2222.83 147.972 L2222.83 147.555 Q2222.83 144.615 2220.88 143.018 Q2218.96 141.398 2215.46 141.398 Q2213.24 141.398 2211.14 141.93 Q2209.03 142.463 2207.08 143.527 L2207.08 139.592 Q2209.42 138.69 2211.62 138.25 Q2213.82 137.787 2215.9 137.787 Q2221.53 137.787 2224.31 140.703 Q2227.08 143.62 2227.08 149.546 Z\" fill=\"#000000\" fill-rule=\"nonzero\" fill-opacity=\"1\" /><path clip-path=\"url(#clip160)\" d=\"M2252.92 142.347 L2252.92 128.319 L2257.18 128.319 L2257.18 164.338 L2252.92 164.338 L2252.92 160.449 Q2251.58 162.763 2249.51 163.898 Q2247.48 165.009 2244.61 165.009 Q2239.91 165.009 2236.95 161.259 Q2234.01 157.509 2234.01 151.398 Q2234.01 145.287 2236.95 141.537 Q2239.91 137.787 2244.61 137.787 Q2247.48 137.787 2249.51 138.921 Q2251.58 140.032 2252.92 142.347 M2238.4 151.398 Q2238.4 156.097 2240.33 158.782 Q2242.27 161.444 2245.65 161.444 Q2249.03 161.444 2250.97 158.782 Q2252.92 156.097 2252.92 151.398 Q2252.92 146.699 2250.97 144.037 Q2249.03 141.352 2245.65 141.352 Q2242.27 141.352 2240.33 144.037 Q2238.4 146.699 2238.4 151.398 Z\" fill=\"#000000\" fill-rule=\"nonzero\" fill-opacity=\"1\" /></svg>\n"
      ],
      "text/html": [
       "<?xml version=\"1.0\" encoding=\"utf-8\"?>\n",
       "<svg xmlns=\"http://www.w3.org/2000/svg\" xmlns:xlink=\"http://www.w3.org/1999/xlink\" width=\"600\" height=\"400\" viewBox=\"0 0 2400 1600\">\n",
       "<defs>\n",
       "  <clipPath id=\"clip210\">\n",
       "    <rect x=\"0\" y=\"0\" width=\"2400\" height=\"1600\"/>\n",
       "  </clipPath>\n",
       "</defs>\n",
       "<path clip-path=\"url(#clip210)\" d=\"M0 1600 L2400 1600 L2400 0 L0 0  Z\" fill=\"#ffffff\" fill-rule=\"evenodd\" fill-opacity=\"1\"/>\n",
       "<defs>\n",
       "  <clipPath id=\"clip211\">\n",
       "    <rect x=\"480\" y=\"0\" width=\"1681\" height=\"1600\"/>\n",
       "  </clipPath>\n",
       "</defs>\n",
       "<path clip-path=\"url(#clip210)\" d=\"M202.227 1486.45 L2352.76 1486.45 L2352.76 47.2441 L202.227 47.2441  Z\" fill=\"#ffffff\" fill-rule=\"evenodd\" fill-opacity=\"1\"/>\n",
       "<defs>\n",
       "  <clipPath id=\"clip212\">\n",
       "    <rect x=\"202\" y=\"47\" width=\"2152\" height=\"1440\"/>\n",
       "  </clipPath>\n",
       "</defs>\n",
       "<polyline clip-path=\"url(#clip212)\" style=\"stroke:#000000; stroke-linecap:round; stroke-linejoin:round; stroke-width:2; stroke-opacity:0.1; fill:none\" points=\"440.133,1486.45 440.133,47.2441 \"/>\n",
       "<polyline clip-path=\"url(#clip212)\" style=\"stroke:#000000; stroke-linecap:round; stroke-linejoin:round; stroke-width:2; stroke-opacity:0.1; fill:none\" points=\"1038.25,1486.45 1038.25,47.2441 \"/>\n",
       "<polyline clip-path=\"url(#clip212)\" style=\"stroke:#000000; stroke-linecap:round; stroke-linejoin:round; stroke-width:2; stroke-opacity:0.1; fill:none\" points=\"1636.36,1486.45 1636.36,47.2441 \"/>\n",
       "<polyline clip-path=\"url(#clip212)\" style=\"stroke:#000000; stroke-linecap:round; stroke-linejoin:round; stroke-width:2; stroke-opacity:0.1; fill:none\" points=\"2234.47,1486.45 2234.47,47.2441 \"/>\n",
       "<polyline clip-path=\"url(#clip210)\" style=\"stroke:#000000; stroke-linecap:round; stroke-linejoin:round; stroke-width:4; stroke-opacity:1; fill:none\" points=\"202.227,1486.45 2352.76,1486.45 \"/>\n",
       "<polyline clip-path=\"url(#clip210)\" style=\"stroke:#000000; stroke-linecap:round; stroke-linejoin:round; stroke-width:4; stroke-opacity:1; fill:none\" points=\"440.133,1486.45 440.133,1467.55 \"/>\n",
       "<polyline clip-path=\"url(#clip210)\" style=\"stroke:#000000; stroke-linecap:round; stroke-linejoin:round; stroke-width:4; stroke-opacity:1; fill:none\" points=\"1038.25,1486.45 1038.25,1467.55 \"/>\n",
       "<polyline clip-path=\"url(#clip210)\" style=\"stroke:#000000; stroke-linecap:round; stroke-linejoin:round; stroke-width:4; stroke-opacity:1; fill:none\" points=\"1636.36,1486.45 1636.36,1467.55 \"/>\n",
       "<polyline clip-path=\"url(#clip210)\" style=\"stroke:#000000; stroke-linecap:round; stroke-linejoin:round; stroke-width:4; stroke-opacity:1; fill:none\" points=\"2234.47,1486.45 2234.47,1467.55 \"/>\n",
       "<path clip-path=\"url(#clip210)\" d=\"M372.078 1532.02 L401.754 1532.02 L401.754 1535.95 L372.078 1535.95 L372.078 1532.02 Z\" fill=\"#000000\" fill-rule=\"nonzero\" fill-opacity=\"1\" /><path clip-path=\"url(#clip210)\" d=\"M421.846 1517.37 Q418.235 1517.37 416.406 1520.93 Q414.601 1524.47 414.601 1531.6 Q414.601 1538.71 416.406 1542.27 Q418.235 1545.82 421.846 1545.82 Q425.48 1545.82 427.286 1542.27 Q429.115 1538.71 429.115 1531.6 Q429.115 1524.47 427.286 1520.93 Q425.48 1517.37 421.846 1517.37 M421.846 1513.66 Q427.656 1513.66 430.712 1518.27 Q433.79 1522.85 433.79 1531.6 Q433.79 1540.33 430.712 1544.94 Q427.656 1549.52 421.846 1549.52 Q416.036 1549.52 412.957 1544.94 Q409.902 1540.33 409.902 1531.6 Q409.902 1522.85 412.957 1518.27 Q416.036 1513.66 421.846 1513.66 Z\" fill=\"#000000\" fill-rule=\"nonzero\" fill-opacity=\"1\" /><path clip-path=\"url(#clip210)\" d=\"M442.008 1542.97 L446.892 1542.97 L446.892 1548.85 L442.008 1548.85 L442.008 1542.97 Z\" fill=\"#000000\" fill-rule=\"nonzero\" fill-opacity=\"1\" /><path clip-path=\"url(#clip210)\" d=\"M467.077 1517.37 Q463.466 1517.37 461.638 1520.93 Q459.832 1524.47 459.832 1531.6 Q459.832 1538.71 461.638 1542.27 Q463.466 1545.82 467.077 1545.82 Q470.712 1545.82 472.517 1542.27 Q474.346 1538.71 474.346 1531.6 Q474.346 1524.47 472.517 1520.93 Q470.712 1517.37 467.077 1517.37 M467.077 1513.66 Q472.887 1513.66 475.943 1518.27 Q479.022 1522.85 479.022 1531.6 Q479.022 1540.33 475.943 1544.94 Q472.887 1549.52 467.077 1549.52 Q461.267 1549.52 458.188 1544.94 Q455.133 1540.33 455.133 1531.6 Q455.133 1522.85 458.188 1518.27 Q461.267 1513.66 467.077 1513.66 Z\" fill=\"#000000\" fill-rule=\"nonzero\" fill-opacity=\"1\" /><path clip-path=\"url(#clip210)\" d=\"M487.286 1514.29 L505.642 1514.29 L505.642 1518.22 L491.568 1518.22 L491.568 1526.7 Q492.586 1526.35 493.605 1526.19 Q494.623 1526 495.642 1526 Q501.429 1526 504.809 1529.17 Q508.188 1532.34 508.188 1537.76 Q508.188 1543.34 504.716 1546.44 Q501.244 1549.52 494.924 1549.52 Q492.748 1549.52 490.48 1549.15 Q488.235 1548.78 485.827 1548.04 L485.827 1543.34 Q487.911 1544.47 490.133 1545.03 Q492.355 1545.58 494.832 1545.58 Q498.836 1545.58 501.174 1543.48 Q503.512 1541.37 503.512 1537.76 Q503.512 1534.15 501.174 1532.04 Q498.836 1529.94 494.832 1529.94 Q492.957 1529.94 491.082 1530.35 Q489.23 1530.77 487.286 1531.65 L487.286 1514.29 Z\" fill=\"#000000\" fill-rule=\"nonzero\" fill-opacity=\"1\" /><path clip-path=\"url(#clip210)\" d=\"M1000.55 1517.37 Q996.939 1517.37 995.11 1520.93 Q993.304 1524.47 993.304 1531.6 Q993.304 1538.71 995.11 1542.27 Q996.939 1545.82 1000.55 1545.82 Q1004.18 1545.82 1005.99 1542.27 Q1007.82 1538.71 1007.82 1531.6 Q1007.82 1524.47 1005.99 1520.93 Q1004.18 1517.37 1000.55 1517.37 M1000.55 1513.66 Q1006.36 1513.66 1009.42 1518.27 Q1012.49 1522.85 1012.49 1531.6 Q1012.49 1540.33 1009.42 1544.94 Q1006.36 1549.52 1000.55 1549.52 Q994.74 1549.52 991.661 1544.94 Q988.605 1540.33 988.605 1531.6 Q988.605 1522.85 991.661 1518.27 Q994.74 1513.66 1000.55 1513.66 Z\" fill=\"#000000\" fill-rule=\"nonzero\" fill-opacity=\"1\" /><path clip-path=\"url(#clip210)\" d=\"M1020.71 1542.97 L1025.6 1542.97 L1025.6 1548.85 L1020.71 1548.85 L1020.71 1542.97 Z\" fill=\"#000000\" fill-rule=\"nonzero\" fill-opacity=\"1\" /><path clip-path=\"url(#clip210)\" d=\"M1045.78 1517.37 Q1042.17 1517.37 1040.34 1520.93 Q1038.54 1524.47 1038.54 1531.6 Q1038.54 1538.71 1040.34 1542.27 Q1042.17 1545.82 1045.78 1545.82 Q1049.42 1545.82 1051.22 1542.27 Q1053.05 1538.71 1053.05 1531.6 Q1053.05 1524.47 1051.22 1520.93 Q1049.42 1517.37 1045.78 1517.37 M1045.78 1513.66 Q1051.59 1513.66 1054.65 1518.27 Q1057.73 1522.85 1057.73 1531.6 Q1057.73 1540.33 1054.65 1544.94 Q1051.59 1549.52 1045.78 1549.52 Q1039.97 1549.52 1036.89 1544.94 Q1033.84 1540.33 1033.84 1531.6 Q1033.84 1522.85 1036.89 1518.27 Q1039.97 1513.66 1045.78 1513.66 Z\" fill=\"#000000\" fill-rule=\"nonzero\" fill-opacity=\"1\" /><path clip-path=\"url(#clip210)\" d=\"M1075.94 1517.37 Q1072.33 1517.37 1070.5 1520.93 Q1068.7 1524.47 1068.7 1531.6 Q1068.7 1538.71 1070.5 1542.27 Q1072.33 1545.82 1075.94 1545.82 Q1079.58 1545.82 1081.38 1542.27 Q1083.21 1538.71 1083.21 1531.6 Q1083.21 1524.47 1081.38 1520.93 Q1079.58 1517.37 1075.94 1517.37 M1075.94 1513.66 Q1081.75 1513.66 1084.81 1518.27 Q1087.89 1522.85 1087.89 1531.6 Q1087.89 1540.33 1084.81 1544.94 Q1081.75 1549.52 1075.94 1549.52 Q1070.13 1549.52 1067.05 1544.94 Q1064 1540.33 1064 1531.6 Q1064 1522.85 1067.05 1518.27 Q1070.13 1513.66 1075.94 1513.66 Z\" fill=\"#000000\" fill-rule=\"nonzero\" fill-opacity=\"1\" /><path clip-path=\"url(#clip210)\" d=\"M1599.16 1517.37 Q1595.55 1517.37 1593.72 1520.93 Q1591.92 1524.47 1591.92 1531.6 Q1591.92 1538.71 1593.72 1542.27 Q1595.55 1545.82 1599.16 1545.82 Q1602.8 1545.82 1604.6 1542.27 Q1606.43 1538.71 1606.43 1531.6 Q1606.43 1524.47 1604.6 1520.93 Q1602.8 1517.37 1599.16 1517.37 M1599.16 1513.66 Q1604.97 1513.66 1608.03 1518.27 Q1611.11 1522.85 1611.11 1531.6 Q1611.11 1540.33 1608.03 1544.94 Q1604.97 1549.52 1599.16 1549.52 Q1593.35 1549.52 1590.27 1544.94 Q1587.22 1540.33 1587.22 1531.6 Q1587.22 1522.85 1590.27 1518.27 Q1593.35 1513.66 1599.16 1513.66 Z\" fill=\"#000000\" fill-rule=\"nonzero\" fill-opacity=\"1\" /><path clip-path=\"url(#clip210)\" d=\"M1619.32 1542.97 L1624.21 1542.97 L1624.21 1548.85 L1619.32 1548.85 L1619.32 1542.97 Z\" fill=\"#000000\" fill-rule=\"nonzero\" fill-opacity=\"1\" /><path clip-path=\"url(#clip210)\" d=\"M1644.39 1517.37 Q1640.78 1517.37 1638.95 1520.93 Q1637.15 1524.47 1637.15 1531.6 Q1637.15 1538.71 1638.95 1542.27 Q1640.78 1545.82 1644.39 1545.82 Q1648.03 1545.82 1649.83 1542.27 Q1651.66 1538.71 1651.66 1531.6 Q1651.66 1524.47 1649.83 1520.93 Q1648.03 1517.37 1644.39 1517.37 M1644.39 1513.66 Q1650.2 1513.66 1653.26 1518.27 Q1656.34 1522.85 1656.34 1531.6 Q1656.34 1540.33 1653.26 1544.94 Q1650.2 1549.52 1644.39 1549.52 Q1638.58 1549.52 1635.5 1544.94 Q1632.45 1540.33 1632.45 1531.6 Q1632.45 1522.85 1635.5 1518.27 Q1638.58 1513.66 1644.39 1513.66 Z\" fill=\"#000000\" fill-rule=\"nonzero\" fill-opacity=\"1\" /><path clip-path=\"url(#clip210)\" d=\"M1664.6 1514.29 L1682.96 1514.29 L1682.96 1518.22 L1668.88 1518.22 L1668.88 1526.7 Q1669.9 1526.35 1670.92 1526.19 Q1671.94 1526 1672.96 1526 Q1678.74 1526 1682.12 1529.17 Q1685.5 1532.34 1685.5 1537.76 Q1685.5 1543.34 1682.03 1546.44 Q1678.56 1549.52 1672.24 1549.52 Q1670.06 1549.52 1667.79 1549.15 Q1665.55 1548.78 1663.14 1548.04 L1663.14 1543.34 Q1665.23 1544.47 1667.45 1545.03 Q1669.67 1545.58 1672.15 1545.58 Q1676.15 1545.58 1678.49 1543.48 Q1680.83 1541.37 1680.83 1537.76 Q1680.83 1534.15 1678.49 1532.04 Q1676.15 1529.94 1672.15 1529.94 Q1670.27 1529.94 1668.4 1530.35 Q1666.54 1530.77 1664.6 1531.65 L1664.6 1514.29 Z\" fill=\"#000000\" fill-rule=\"nonzero\" fill-opacity=\"1\" /><path clip-path=\"url(#clip210)\" d=\"M2196.78 1517.37 Q2193.17 1517.37 2191.34 1520.93 Q2189.53 1524.47 2189.53 1531.6 Q2189.53 1538.71 2191.34 1542.27 Q2193.17 1545.82 2196.78 1545.82 Q2200.41 1545.82 2202.22 1542.27 Q2204.04 1538.71 2204.04 1531.6 Q2204.04 1524.47 2202.22 1520.93 Q2200.41 1517.37 2196.78 1517.37 M2196.78 1513.66 Q2202.59 1513.66 2205.64 1518.27 Q2208.72 1522.85 2208.72 1531.6 Q2208.72 1540.33 2205.64 1544.94 Q2202.59 1549.52 2196.78 1549.52 Q2190.97 1549.52 2187.89 1544.94 Q2184.83 1540.33 2184.83 1531.6 Q2184.83 1522.85 2187.89 1518.27 Q2190.97 1513.66 2196.78 1513.66 Z\" fill=\"#000000\" fill-rule=\"nonzero\" fill-opacity=\"1\" /><path clip-path=\"url(#clip210)\" d=\"M2216.94 1542.97 L2221.82 1542.97 L2221.82 1548.85 L2216.94 1548.85 L2216.94 1542.97 Z\" fill=\"#000000\" fill-rule=\"nonzero\" fill-opacity=\"1\" /><path clip-path=\"url(#clip210)\" d=\"M2232.82 1544.91 L2240.46 1544.91 L2240.46 1518.55 L2232.15 1520.21 L2232.15 1515.95 L2240.41 1514.29 L2245.09 1514.29 L2245.09 1544.91 L2252.73 1544.91 L2252.73 1548.85 L2232.82 1548.85 L2232.82 1544.91 Z\" fill=\"#000000\" fill-rule=\"nonzero\" fill-opacity=\"1\" /><path clip-path=\"url(#clip210)\" d=\"M2272.17 1517.37 Q2268.56 1517.37 2266.73 1520.93 Q2264.92 1524.47 2264.92 1531.6 Q2264.92 1538.71 2266.73 1542.27 Q2268.56 1545.82 2272.17 1545.82 Q2275.8 1545.82 2277.61 1542.27 Q2279.44 1538.71 2279.44 1531.6 Q2279.44 1524.47 2277.61 1520.93 Q2275.8 1517.37 2272.17 1517.37 M2272.17 1513.66 Q2277.98 1513.66 2281.04 1518.27 Q2284.11 1522.85 2284.11 1531.6 Q2284.11 1540.33 2281.04 1544.94 Q2277.98 1549.52 2272.17 1549.52 Q2266.36 1549.52 2263.28 1544.94 Q2260.23 1540.33 2260.23 1531.6 Q2260.23 1522.85 2263.28 1518.27 Q2266.36 1513.66 2272.17 1513.66 Z\" fill=\"#000000\" fill-rule=\"nonzero\" fill-opacity=\"1\" /><polyline clip-path=\"url(#clip212)\" style=\"stroke:#000000; stroke-linecap:round; stroke-linejoin:round; stroke-width:2; stroke-opacity:0.1; fill:none\" points=\"202.227,1486.45 2352.76,1486.45 \"/>\n",
       "<polyline clip-path=\"url(#clip212)\" style=\"stroke:#000000; stroke-linecap:round; stroke-linejoin:round; stroke-width:2; stroke-opacity:0.1; fill:none\" points=\"202.227,1006.71 2352.76,1006.71 \"/>\n",
       "<polyline clip-path=\"url(#clip212)\" style=\"stroke:#000000; stroke-linecap:round; stroke-linejoin:round; stroke-width:2; stroke-opacity:0.1; fill:none\" points=\"202.227,526.979 2352.76,526.979 \"/>\n",
       "<polyline clip-path=\"url(#clip212)\" style=\"stroke:#000000; stroke-linecap:round; stroke-linejoin:round; stroke-width:2; stroke-opacity:0.1; fill:none\" points=\"202.227,47.2441 2352.76,47.2441 \"/>\n",
       "<polyline clip-path=\"url(#clip210)\" style=\"stroke:#000000; stroke-linecap:round; stroke-linejoin:round; stroke-width:4; stroke-opacity:1; fill:none\" points=\"202.227,1486.45 202.227,47.2441 \"/>\n",
       "<polyline clip-path=\"url(#clip210)\" style=\"stroke:#000000; stroke-linecap:round; stroke-linejoin:round; stroke-width:4; stroke-opacity:1; fill:none\" points=\"202.227,1486.45 221.125,1486.45 \"/>\n",
       "<polyline clip-path=\"url(#clip210)\" style=\"stroke:#000000; stroke-linecap:round; stroke-linejoin:round; stroke-width:4; stroke-opacity:1; fill:none\" points=\"202.227,1006.71 221.125,1006.71 \"/>\n",
       "<polyline clip-path=\"url(#clip210)\" style=\"stroke:#000000; stroke-linecap:round; stroke-linejoin:round; stroke-width:4; stroke-opacity:1; fill:none\" points=\"202.227,526.979 221.125,526.979 \"/>\n",
       "<polyline clip-path=\"url(#clip210)\" style=\"stroke:#000000; stroke-linecap:round; stroke-linejoin:round; stroke-width:4; stroke-opacity:1; fill:none\" points=\"202.227,47.2441 221.125,47.2441 \"/>\n",
       "<path clip-path=\"url(#clip210)\" d=\"M154.283 1472.25 Q150.672 1472.25 148.843 1475.81 Q147.038 1479.35 147.038 1486.48 Q147.038 1493.59 148.843 1497.15 Q150.672 1500.7 154.283 1500.7 Q157.917 1500.7 159.723 1497.15 Q161.552 1493.59 161.552 1486.48 Q161.552 1479.35 159.723 1475.81 Q157.917 1472.25 154.283 1472.25 M154.283 1468.54 Q160.093 1468.54 163.149 1473.15 Q166.227 1477.73 166.227 1486.48 Q166.227 1495.21 163.149 1499.82 Q160.093 1504.4 154.283 1504.4 Q148.473 1504.4 145.394 1499.82 Q142.339 1495.21 142.339 1486.48 Q142.339 1477.73 145.394 1473.15 Q148.473 1468.54 154.283 1468.54 Z\" fill=\"#000000\" fill-rule=\"nonzero\" fill-opacity=\"1\" /><path clip-path=\"url(#clip210)\" d=\"M145.325 989.433 L163.681 989.433 L163.681 993.368 L149.607 993.368 L149.607 1001.84 Q150.626 1001.49 151.644 1001.33 Q152.663 1001.15 153.681 1001.15 Q159.468 1001.15 162.848 1004.32 Q166.227 1007.49 166.227 1012.91 Q166.227 1018.48 162.755 1021.59 Q159.283 1024.66 152.964 1024.66 Q150.788 1024.66 148.519 1024.29 Q146.274 1023.92 143.866 1023.18 L143.866 1018.48 Q145.95 1019.62 148.172 1020.17 Q150.394 1020.73 152.871 1020.73 Q156.876 1020.73 159.214 1018.62 Q161.552 1016.52 161.552 1012.91 Q161.552 1009.29 159.214 1007.19 Q156.876 1005.08 152.871 1005.08 Q150.996 1005.08 149.121 1005.5 Q147.269 1005.91 145.325 1006.79 L145.325 989.433 Z\" fill=\"#000000\" fill-rule=\"nonzero\" fill-opacity=\"1\" /><path clip-path=\"url(#clip210)\" d=\"M114.931 540.324 L122.57 540.324 L122.57 513.958 L114.26 515.625 L114.26 511.365 L122.524 509.699 L127.2 509.699 L127.2 540.324 L134.839 540.324 L134.839 544.259 L114.931 544.259 L114.931 540.324 Z\" fill=\"#000000\" fill-rule=\"nonzero\" fill-opacity=\"1\" /><path clip-path=\"url(#clip210)\" d=\"M154.283 512.777 Q150.672 512.777 148.843 516.342 Q147.038 519.884 147.038 527.013 Q147.038 534.12 148.843 537.685 Q150.672 541.226 154.283 541.226 Q157.917 541.226 159.723 537.685 Q161.552 534.12 161.552 527.013 Q161.552 519.884 159.723 516.342 Q157.917 512.777 154.283 512.777 M154.283 509.074 Q160.093 509.074 163.149 513.68 Q166.227 518.263 166.227 527.013 Q166.227 535.74 163.149 540.347 Q160.093 544.93 154.283 544.93 Q148.473 544.93 145.394 540.347 Q142.339 535.74 142.339 527.013 Q142.339 518.263 145.394 513.68 Q148.473 509.074 154.283 509.074 Z\" fill=\"#000000\" fill-rule=\"nonzero\" fill-opacity=\"1\" /><path clip-path=\"url(#clip210)\" d=\"M115.927 60.5889 L123.566 60.5889 L123.566 34.2233 L115.256 35.89 L115.256 31.6308 L123.519 29.9641 L128.195 29.9641 L128.195 60.5889 L135.834 60.5889 L135.834 64.5241 L115.927 64.5241 L115.927 60.5889 Z\" fill=\"#000000\" fill-rule=\"nonzero\" fill-opacity=\"1\" /><path clip-path=\"url(#clip210)\" d=\"M145.325 29.9641 L163.681 29.9641 L163.681 33.8993 L149.607 33.8993 L149.607 42.3714 Q150.626 42.0242 151.644 41.8622 Q152.663 41.677 153.681 41.677 Q159.468 41.677 162.848 44.8483 Q166.227 48.0196 166.227 53.4362 Q166.227 59.0149 162.755 62.1167 Q159.283 65.1954 152.964 65.1954 Q150.788 65.1954 148.519 64.825 Q146.274 64.4547 143.866 63.7139 L143.866 59.0149 Q145.95 60.1491 148.172 60.7047 Q150.394 61.2602 152.871 61.2602 Q156.876 61.2602 159.214 59.1538 Q161.552 57.0473 161.552 53.4362 Q161.552 49.8251 159.214 47.7186 Q156.876 45.6122 152.871 45.6122 Q150.996 45.6122 149.121 46.0288 Q147.269 46.4455 145.325 47.3251 L145.325 29.9641 Z\" fill=\"#000000\" fill-rule=\"nonzero\" fill-opacity=\"1\" /><path clip-path=\"url(#clip210)\" d=\"M16.4842 931.049 L16.4842 903.741 L21.895 903.741 L21.895 924.62 L35.8996 924.62 L35.8996 905.778 L41.3104 905.778 L41.3104 924.62 L64.0042 924.62 L64.0042 931.049 L16.4842 931.049 Z\" fill=\"#000000\" fill-rule=\"nonzero\" fill-opacity=\"1\" /><path clip-path=\"url(#clip210)\" d=\"M33.8307 877.896 Q33.2578 878.882 33.0032 880.06 Q32.7167 881.206 32.7167 882.606 Q32.7167 887.572 35.9632 890.245 Q39.1779 892.887 45.2253 892.887 L64.0042 892.887 L64.0042 898.775 L28.3562 898.775 L28.3562 892.887 L33.8944 892.887 Q30.6479 891.041 29.0883 888.081 Q27.4968 885.121 27.4968 880.888 Q27.4968 880.283 27.5923 879.551 Q27.656 878.819 27.8151 877.928 L33.8307 877.896 Z\" fill=\"#000000\" fill-rule=\"nonzero\" fill-opacity=\"1\" /><path clip-path=\"url(#clip210)\" d=\"M44.7161 842.693 L47.5806 842.693 L47.5806 869.62 Q53.6281 869.238 56.8109 865.992 Q59.9619 862.714 59.9619 856.889 Q59.9619 853.515 59.1344 850.364 Q58.3069 847.181 56.6518 844.062 L62.1899 844.062 Q63.5267 847.213 64.227 850.523 Q64.9272 853.833 64.9272 857.239 Q64.9272 865.769 59.9619 870.766 Q54.9967 875.731 46.5303 875.731 Q37.7774 875.731 32.6531 871.021 Q27.4968 866.278 27.4968 858.258 Q27.4968 851.064 32.1438 846.895 Q36.7589 842.693 44.7161 842.693 M42.9973 848.55 Q38.1912 848.613 35.3266 851.255 Q32.4621 853.865 32.4621 858.194 Q32.4621 863.095 35.2312 866.056 Q38.0002 868.984 43.0292 869.429 L42.9973 848.55 Z\" fill=\"#000000\" fill-rule=\"nonzero\" fill-opacity=\"1\" /><path clip-path=\"url(#clip210)\" d=\"M46.212 829.58 Q52.6732 829.58 56.3653 826.938 Q60.0256 824.265 60.0256 819.618 Q60.0256 814.971 56.3653 812.297 Q52.6732 809.624 46.212 809.624 Q39.7508 809.624 36.0905 812.297 Q32.3984 814.971 32.3984 819.618 Q32.3984 824.265 36.0905 826.938 Q39.7508 829.58 46.212 829.58 M58.657 809.624 Q61.8398 811.47 63.3994 814.302 Q64.9272 817.103 64.9272 821.05 Q64.9272 827.511 59.771 831.585 Q54.6147 835.627 46.212 835.627 Q37.8093 835.627 32.6531 831.585 Q27.4968 827.511 27.4968 821.05 Q27.4968 817.103 29.0564 814.302 Q30.5842 811.47 33.7671 809.624 L28.3562 809.624 L28.3562 803.767 L77.5631 803.767 L77.5631 809.624 L58.657 809.624 Z\" fill=\"#000000\" fill-rule=\"nonzero\" fill-opacity=\"1\" /><path clip-path=\"url(#clip210)\" d=\"M49.9359 792.309 L28.3562 792.309 L28.3562 786.452 L49.7131 786.452 Q54.7739 786.452 57.3202 784.479 Q59.8346 782.506 59.8346 778.559 Q59.8346 773.816 56.8109 771.079 Q53.7872 768.31 48.5673 768.31 L28.3562 768.31 L28.3562 762.454 L64.0042 762.454 L64.0042 768.31 L58.5296 768.31 Q61.7762 770.443 63.3676 773.275 Q64.9272 776.076 64.9272 779.8 Q64.9272 785.943 61.1078 789.126 Q57.2883 792.309 49.9359 792.309 M27.4968 777.572 L27.4968 777.572 Z\" fill=\"#000000\" fill-rule=\"nonzero\" fill-opacity=\"1\" /><path clip-path=\"url(#clip210)\" d=\"M44.7161 719.899 L47.5806 719.899 L47.5806 746.826 Q53.6281 746.444 56.8109 743.197 Q59.9619 739.919 59.9619 734.094 Q59.9619 730.721 59.1344 727.57 Q58.3069 724.387 56.6518 721.268 L62.1899 721.268 Q63.5267 724.419 64.227 727.729 Q64.9272 731.039 64.9272 734.445 Q64.9272 742.975 59.9619 747.972 Q54.9967 752.937 46.5303 752.937 Q37.7774 752.937 32.6531 748.226 Q27.4968 743.484 27.4968 735.463 Q27.4968 728.27 32.1438 724.1 Q36.7589 719.899 44.7161 719.899 M42.9973 725.755 Q38.1912 725.819 35.3266 728.461 Q32.4621 731.071 32.4621 735.399 Q32.4621 740.301 35.2312 743.261 Q38.0002 746.189 43.0292 746.635 L42.9973 725.755 Z\" fill=\"#000000\" fill-rule=\"nonzero\" fill-opacity=\"1\" /><path clip-path=\"url(#clip210)\" d=\"M42.4881 680.654 L64.0042 680.654 L64.0042 686.511 L42.679 686.511 Q37.6183 686.511 35.1038 688.484 Q32.5894 690.458 32.5894 694.404 Q32.5894 699.147 35.6131 701.884 Q38.6368 704.621 43.8567 704.621 L64.0042 704.621 L64.0042 710.509 L28.3562 710.509 L28.3562 704.621 L33.8944 704.621 Q30.6797 702.521 29.0883 699.688 Q27.4968 696.823 27.4968 693.099 Q27.4968 686.956 31.3163 683.805 Q35.1038 680.654 42.4881 680.654 Z\" fill=\"#000000\" fill-rule=\"nonzero\" fill-opacity=\"1\" /><path clip-path=\"url(#clip210)\" d=\"M29.7248 643.319 L35.1993 643.319 Q33.8307 645.802 33.1623 648.317 Q32.4621 650.799 32.4621 653.345 Q32.4621 659.043 36.0905 662.194 Q39.6872 665.345 46.212 665.345 Q52.7369 665.345 56.3653 662.194 Q59.9619 659.043 59.9619 653.345 Q59.9619 650.799 59.2935 648.317 Q58.5933 645.802 57.2247 643.319 L62.6355 643.319 Q63.7814 645.77 64.3543 648.412 Q64.9272 651.022 64.9272 653.982 Q64.9272 662.035 59.8664 666.777 Q54.8057 671.52 46.212 671.52 Q37.491 671.52 32.4939 666.745 Q27.4968 661.939 27.4968 653.6 Q27.4968 650.895 28.0697 648.317 Q28.6108 645.738 29.7248 643.319 Z\" fill=\"#000000\" fill-rule=\"nonzero\" fill-opacity=\"1\" /><path clip-path=\"url(#clip210)\" d=\"M67.3143 618.302 Q73.68 620.785 75.6216 623.14 Q77.5631 625.495 77.5631 629.442 L77.5631 634.121 L72.6615 634.121 L72.6615 630.684 Q72.6615 628.265 71.5157 626.928 Q70.3699 625.591 66.1048 623.968 L63.4312 622.917 L28.3562 637.336 L28.3562 631.129 L56.238 619.989 L28.3562 608.849 L28.3562 602.643 L67.3143 618.302 Z\" fill=\"#000000\" fill-rule=\"nonzero\" fill-opacity=\"1\" /><path clip-path=\"url(#clip212)\" d=\"M320.51 1006.71 L320.51 1486.45 L559.756 1486.45 L559.756 1006.71 L320.51 1006.71 L320.51 1006.71  Z\" fill=\"#009af9\" fill-rule=\"evenodd\" fill-opacity=\"1\"/>\n",
       "<polyline clip-path=\"url(#clip212)\" style=\"stroke:#000000; stroke-linecap:round; stroke-linejoin:round; stroke-width:4.8; stroke-opacity:1; fill:none\" points=\"320.51,1006.71 320.51,1486.45 559.756,1486.45 559.756,1006.71 320.51,1006.71 \"/>\n",
       "<path clip-path=\"url(#clip212)\" d=\"M559.756 1102.66 L559.756 1486.45 L799.001 1486.45 L799.001 1102.66 L559.756 1102.66 L559.756 1102.66  Z\" fill=\"#009af9\" fill-rule=\"evenodd\" fill-opacity=\"1\"/>\n",
       "<polyline clip-path=\"url(#clip212)\" style=\"stroke:#000000; stroke-linecap:round; stroke-linejoin:round; stroke-width:4.8; stroke-opacity:1; fill:none\" points=\"559.756,1102.66 559.756,1486.45 799.001,1486.45 799.001,1102.66 559.756,1102.66 \"/>\n",
       "<path clip-path=\"url(#clip212)\" d=\"M799.001 1102.66 L799.001 1486.45 L1038.25 1486.45 L1038.25 1102.66 L799.001 1102.66 L799.001 1102.66  Z\" fill=\"#009af9\" fill-rule=\"evenodd\" fill-opacity=\"1\"/>\n",
       "<polyline clip-path=\"url(#clip212)\" style=\"stroke:#000000; stroke-linecap:round; stroke-linejoin:round; stroke-width:4.8; stroke-opacity:1; fill:none\" points=\"799.001,1102.66 799.001,1486.45 1038.25,1486.45 1038.25,1102.66 799.001,1102.66 \"/>\n",
       "<path clip-path=\"url(#clip212)\" d=\"M1038.25 718.873 L1038.25 1486.45 L1277.49 1486.45 L1277.49 718.873 L1038.25 718.873 L1038.25 718.873  Z\" fill=\"#009af9\" fill-rule=\"evenodd\" fill-opacity=\"1\"/>\n",
       "<polyline clip-path=\"url(#clip212)\" style=\"stroke:#000000; stroke-linecap:round; stroke-linejoin:round; stroke-width:4.8; stroke-opacity:1; fill:none\" points=\"1038.25,718.873 1038.25,1486.45 1277.49,1486.45 1277.49,718.873 1038.25,718.873 \"/>\n",
       "<path clip-path=\"url(#clip212)\" d=\"M1277.49 47.2441 L1277.49 1486.45 L1516.74 1486.45 L1516.74 47.2441 L1277.49 47.2441 L1277.49 47.2441  Z\" fill=\"#009af9\" fill-rule=\"evenodd\" fill-opacity=\"1\"/>\n",
       "<polyline clip-path=\"url(#clip212)\" style=\"stroke:#000000; stroke-linecap:round; stroke-linejoin:round; stroke-width:4.8; stroke-opacity:1; fill:none\" points=\"1277.49,47.2441 1277.49,1486.45 1516.74,1486.45 1516.74,47.2441 1277.49,47.2441 \"/>\n",
       "<path clip-path=\"url(#clip212)\" d=\"M1516.74 718.873 L1516.74 1486.45 L1755.98 1486.45 L1755.98 718.873 L1516.74 718.873 L1516.74 718.873  Z\" fill=\"#009af9\" fill-rule=\"evenodd\" fill-opacity=\"1\"/>\n",
       "<polyline clip-path=\"url(#clip212)\" style=\"stroke:#000000; stroke-linecap:round; stroke-linejoin:round; stroke-width:4.8; stroke-opacity:1; fill:none\" points=\"1516.74,718.873 1516.74,1486.45 1755.98,1486.45 1755.98,718.873 1516.74,718.873 \"/>\n",
       "<path clip-path=\"url(#clip212)\" d=\"M1755.98 1102.66 L1755.98 1486.45 L1995.23 1486.45 L1995.23 1102.66 L1755.98 1102.66 L1755.98 1102.66  Z\" fill=\"#009af9\" fill-rule=\"evenodd\" fill-opacity=\"1\"/>\n",
       "<polyline clip-path=\"url(#clip212)\" style=\"stroke:#000000; stroke-linecap:round; stroke-linejoin:round; stroke-width:4.8; stroke-opacity:1; fill:none\" points=\"1755.98,1102.66 1755.98,1486.45 1995.23,1486.45 1995.23,1102.66 1755.98,1102.66 \"/>\n",
       "<path clip-path=\"url(#clip212)\" d=\"M1995.23 1390.5 L1995.23 1486.45 L2234.47 1486.45 L2234.47 1390.5 L1995.23 1390.5 L1995.23 1390.5  Z\" fill=\"#009af9\" fill-rule=\"evenodd\" fill-opacity=\"1\"/>\n",
       "<polyline clip-path=\"url(#clip212)\" style=\"stroke:#000000; stroke-linecap:round; stroke-linejoin:round; stroke-width:4.8; stroke-opacity:1; fill:none\" points=\"1995.23,1390.5 1995.23,1486.45 2234.47,1486.45 2234.47,1390.5 1995.23,1390.5 \"/>\n",
       "<circle clip-path=\"url(#clip212)\" style=\"fill:#009af9; stroke:none; fill-opacity:0\" cx=\"440.133\" cy=\"1006.71\" r=\"2\"/>\n",
       "<circle clip-path=\"url(#clip212)\" style=\"fill:#009af9; stroke:none; fill-opacity:0\" cx=\"679.378\" cy=\"1102.66\" r=\"2\"/>\n",
       "<circle clip-path=\"url(#clip212)\" style=\"fill:#009af9; stroke:none; fill-opacity:0\" cx=\"918.624\" cy=\"1102.66\" r=\"2\"/>\n",
       "<circle clip-path=\"url(#clip212)\" style=\"fill:#009af9; stroke:none; fill-opacity:0\" cx=\"1157.87\" cy=\"718.873\" r=\"2\"/>\n",
       "<circle clip-path=\"url(#clip212)\" style=\"fill:#009af9; stroke:none; fill-opacity:0\" cx=\"1397.11\" cy=\"47.2441\" r=\"2\"/>\n",
       "<circle clip-path=\"url(#clip212)\" style=\"fill:#009af9; stroke:none; fill-opacity:0\" cx=\"1636.36\" cy=\"718.873\" r=\"2\"/>\n",
       "<circle clip-path=\"url(#clip212)\" style=\"fill:#009af9; stroke:none; fill-opacity:0\" cx=\"1875.61\" cy=\"1102.66\" r=\"2\"/>\n",
       "<circle clip-path=\"url(#clip212)\" style=\"fill:#009af9; stroke:none; fill-opacity:0\" cx=\"2114.85\" cy=\"1390.5\" r=\"2\"/>\n",
       "<path clip-path=\"url(#clip210)\" d=\"M1911.34 198.898 L2281.07 198.898 L2281.07 95.2176 L1911.34 95.2176  Z\" fill=\"#ffffff\" fill-rule=\"evenodd\" fill-opacity=\"1\"/>\n",
       "<polyline clip-path=\"url(#clip210)\" style=\"stroke:#000000; stroke-linecap:round; stroke-linejoin:round; stroke-width:4; stroke-opacity:1; fill:none\" points=\"1911.34,198.898 2281.07,198.898 2281.07,95.2176 1911.34,95.2176 1911.34,198.898 \"/>\n",
       "<path clip-path=\"url(#clip210)\" d=\"M1935.24 167.794 L2078.61 167.794 L2078.61 126.322 L1935.24 126.322 L1935.24 167.794  Z\" fill=\"#009af9\" fill-rule=\"evenodd\" fill-opacity=\"1\"/>\n",
       "<polyline clip-path=\"url(#clip210)\" style=\"stroke:#000000; stroke-linecap:round; stroke-linejoin:round; stroke-width:4.8; stroke-opacity:1; fill:none\" points=\"1935.24,167.794 2078.61,167.794 2078.61,126.322 1935.24,126.322 1935.24,167.794 \"/>\n",
       "<path clip-path=\"url(#clip210)\" d=\"M2120.93 139.176 L2120.93 143.203 Q2119.12 142.277 2117.18 141.815 Q2115.23 141.352 2113.15 141.352 Q2109.98 141.352 2108.38 142.324 Q2106.81 143.296 2106.81 145.24 Q2106.81 146.722 2107.94 147.578 Q2109.08 148.412 2112.5 149.176 L2113.96 149.5 Q2118.5 150.472 2120.4 152.254 Q2122.32 154.014 2122.32 157.185 Q2122.32 160.796 2119.45 162.902 Q2116.6 165.009 2111.6 165.009 Q2109.52 165.009 2107.25 164.592 Q2105 164.199 2102.5 163.388 L2102.5 158.99 Q2104.86 160.217 2107.15 160.842 Q2109.45 161.444 2111.69 161.444 Q2114.7 161.444 2116.32 160.426 Q2117.94 159.384 2117.94 157.509 Q2117.94 155.773 2116.76 154.847 Q2115.6 153.921 2111.65 153.064 L2110.16 152.717 Q2106.21 151.884 2104.45 150.171 Q2102.69 148.435 2102.69 145.426 Q2102.69 141.768 2105.28 139.778 Q2107.87 137.787 2112.64 137.787 Q2115 137.787 2117.09 138.134 Q2119.17 138.481 2120.93 139.176 Z\" fill=\"#000000\" fill-rule=\"nonzero\" fill-opacity=\"1\" /><path clip-path=\"url(#clip210)\" d=\"M2133.22 160.449 L2133.22 174.199 L2128.94 174.199 L2128.94 138.412 L2133.22 138.412 L2133.22 142.347 Q2134.56 140.032 2136.6 138.921 Q2138.66 137.787 2141.51 137.787 Q2146.23 137.787 2149.17 141.537 Q2152.13 145.287 2152.13 151.398 Q2152.13 157.509 2149.17 161.259 Q2146.23 165.009 2141.51 165.009 Q2138.66 165.009 2136.6 163.898 Q2134.56 162.763 2133.22 160.449 M2147.71 151.398 Q2147.71 146.699 2145.77 144.037 Q2143.84 141.352 2140.46 141.352 Q2137.08 141.352 2135.14 144.037 Q2133.22 146.699 2133.22 151.398 Q2133.22 156.097 2135.14 158.782 Q2137.08 161.444 2140.46 161.444 Q2143.84 161.444 2145.77 158.782 Q2147.71 156.097 2147.71 151.398 Z\" fill=\"#000000\" fill-rule=\"nonzero\" fill-opacity=\"1\" /><path clip-path=\"url(#clip210)\" d=\"M2174.21 142.393 Q2173.5 141.977 2172.64 141.791 Q2171.81 141.583 2170.79 141.583 Q2167.18 141.583 2165.23 143.944 Q2163.31 146.282 2163.31 150.68 L2163.31 164.338 L2159.03 164.338 L2159.03 138.412 L2163.31 138.412 L2163.31 142.44 Q2164.65 140.078 2166.81 138.944 Q2168.96 137.787 2172.04 137.787 Q2172.48 137.787 2173.01 137.856 Q2173.54 137.903 2174.19 138.018 L2174.21 142.393 Z\" fill=\"#000000\" fill-rule=\"nonzero\" fill-opacity=\"1\" /><path clip-path=\"url(#clip210)\" d=\"M2199.82 150.31 L2199.82 152.393 L2180.23 152.393 Q2180.51 156.791 2182.87 159.106 Q2185.26 161.398 2189.49 161.398 Q2191.95 161.398 2194.24 160.796 Q2196.55 160.194 2198.82 158.99 L2198.82 163.018 Q2196.53 163.99 2194.12 164.5 Q2191.71 165.009 2189.24 165.009 Q2183.03 165.009 2179.4 161.398 Q2175.79 157.787 2175.79 151.629 Q2175.79 145.264 2179.21 141.537 Q2182.66 137.787 2188.5 137.787 Q2193.73 137.787 2196.76 141.166 Q2199.82 144.523 2199.82 150.31 M2195.56 149.06 Q2195.51 145.565 2193.59 143.481 Q2191.69 141.398 2188.54 141.398 Q2184.98 141.398 2182.83 143.412 Q2180.7 145.426 2180.37 149.083 L2195.56 149.06 Z\" fill=\"#000000\" fill-rule=\"nonzero\" fill-opacity=\"1\" /><path clip-path=\"url(#clip210)\" d=\"M2218.59 151.305 Q2213.43 151.305 2211.44 152.486 Q2209.45 153.666 2209.45 156.514 Q2209.45 158.782 2210.93 160.125 Q2212.43 161.444 2215 161.444 Q2218.54 161.444 2220.67 158.944 Q2222.83 156.421 2222.83 152.254 L2222.83 151.305 L2218.59 151.305 M2227.08 149.546 L2227.08 164.338 L2222.83 164.338 L2222.83 160.402 Q2221.37 162.763 2219.19 163.898 Q2217.02 165.009 2213.87 165.009 Q2209.89 165.009 2207.52 162.787 Q2205.19 160.541 2205.19 156.791 Q2205.19 152.416 2208.1 150.194 Q2211.04 147.972 2216.85 147.972 L2222.83 147.972 L2222.83 147.555 Q2222.83 144.615 2220.88 143.018 Q2218.96 141.398 2215.46 141.398 Q2213.24 141.398 2211.14 141.93 Q2209.03 142.463 2207.08 143.527 L2207.08 139.592 Q2209.42 138.69 2211.62 138.25 Q2213.82 137.787 2215.9 137.787 Q2221.53 137.787 2224.31 140.703 Q2227.08 143.62 2227.08 149.546 Z\" fill=\"#000000\" fill-rule=\"nonzero\" fill-opacity=\"1\" /><path clip-path=\"url(#clip210)\" d=\"M2252.92 142.347 L2252.92 128.319 L2257.18 128.319 L2257.18 164.338 L2252.92 164.338 L2252.92 160.449 Q2251.58 162.763 2249.51 163.898 Q2247.48 165.009 2244.61 165.009 Q2239.91 165.009 2236.95 161.259 Q2234.01 157.509 2234.01 151.398 Q2234.01 145.287 2236.95 141.537 Q2239.91 137.787 2244.61 137.787 Q2247.48 137.787 2249.51 138.921 Q2251.58 140.032 2252.92 142.347 M2238.4 151.398 Q2238.4 156.097 2240.33 158.782 Q2242.27 161.444 2245.65 161.444 Q2249.03 161.444 2250.97 158.782 Q2252.92 156.097 2252.92 151.398 Q2252.92 146.699 2250.97 144.037 Q2249.03 141.352 2245.65 141.352 Q2242.27 141.352 2240.33 144.037 Q2238.4 146.699 2238.4 151.398 Z\" fill=\"#000000\" fill-rule=\"nonzero\" fill-opacity=\"1\" /></svg>\n"
      ]
     },
     "metadata": {},
     "output_type": "display_data"
    }
   ],
   "source": [
    "pollsUsElection2016 = dataset(\"dslabs\", \"polls_us_election_2016\");\n",
    "polls = filter(row -> row[:state] == \"U.S.\" &&\n",
    "                      row[:enddate] >= Date(\"2016-10-31\") &&\n",
    "                      (row[:grade] ∈ [\"A+\", \"A\", \"A-\", \"B+\"] || row[:grade] == \"\" ),\n",
    "               pollsUsElection2016);\n",
    "polls.spread = polls.rawpoll_clinton / 100 - polls.rawpoll_trump / 100;\n",
    "polls.samplesize = map(n -> parse(Int, n), polls.samplesize)\n",
    "N = sum(polls.samplesize)\n",
    "d̂ = (polls.spread' * polls.samplesize) / N\n",
    "p̂ = (d̂ + 1) / 2\n",
    "α = 0.05\n",
    "confidence = 1 - α / 2\n",
    "μₑ = qnorm(confidence) * 2 * sqrt(p̂ * (1 - p̂) / N)\n",
    "plotHistogram = histogram(polls.spread, bins=:auto, binwidth = 0.01, linecolor=\"black\", linewidth=1.2,\n",
    "                          label=\"spread\", ylabel=\"Frequency\")"
   ]
  },
  {
   "cell_type": "code",
   "execution_count": 80,
   "metadata": {},
   "outputs": [
    {
     "data": {
      "text/html": [
       "<div><div style = \"float: left;\"><span>15×2 DataFrame</span></div><div style = \"clear: both;\"></div></div><div class = \"data-frame\" style = \"overflow-x: scroll;\"><table class = \"data-frame\" style = \"margin-bottom: 6px;\"><thead><tr class = \"header\"><th class = \"rowNumber\" style = \"font-weight: bold; text-align: right;\">Row</th><th style = \"text-align: left;\">pollster</th><th style = \"text-align: left;\">count</th></tr><tr class = \"subheader headerLastRow\"><th class = \"rowNumber\" style = \"font-weight: bold; text-align: right;\"></th><th title = \"String\" style = \"text-align: left;\">String</th><th title = \"Int64\" style = \"text-align: left;\">Int64</th></tr></thead><tbody><tr><td class = \"rowNumber\" style = \"font-weight: bold; text-align: right;\">1</td><td style = \"text-align: left;\">ABC News/Washington Post</td><td style = \"text-align: right;\">7</td></tr><tr><td class = \"rowNumber\" style = \"font-weight: bold; text-align: right;\">2</td><td style = \"text-align: left;\">Ipsos</td><td style = \"text-align: right;\">6</td></tr><tr><td class = \"rowNumber\" style = \"font-weight: bold; text-align: right;\">3</td><td style = \"text-align: left;\">Fox News/Anderson Robbins Research/Shaw &amp; Company Research</td><td style = \"text-align: right;\">2</td></tr><tr><td class = \"rowNumber\" style = \"font-weight: bold; text-align: right;\">4</td><td style = \"text-align: left;\">CBS News/New York Times</td><td style = \"text-align: right;\">2</td></tr><tr><td class = \"rowNumber\" style = \"font-weight: bold; text-align: right;\">5</td><td style = \"text-align: left;\">NBC News/Wall Street Journal</td><td style = \"text-align: right;\">1</td></tr><tr><td class = \"rowNumber\" style = \"font-weight: bold; text-align: right;\">6</td><td style = \"text-align: left;\">IBD/TIPP</td><td style = \"text-align: right;\">8</td></tr><tr><td class = \"rowNumber\" style = \"font-weight: bold; text-align: right;\">7</td><td style = \"text-align: left;\">Selzer &amp; Company</td><td style = \"text-align: right;\">1</td></tr><tr><td class = \"rowNumber\" style = \"font-weight: bold; text-align: right;\">8</td><td style = \"text-align: left;\">Angus Reid Global</td><td style = \"text-align: right;\">1</td></tr><tr><td class = \"rowNumber\" style = \"font-weight: bold; text-align: right;\">9</td><td style = \"text-align: left;\">Monmouth University</td><td style = \"text-align: right;\">1</td></tr><tr><td class = \"rowNumber\" style = \"font-weight: bold; text-align: right;\">10</td><td style = \"text-align: left;\">Marist College</td><td style = \"text-align: right;\">1</td></tr><tr><td class = \"rowNumber\" style = \"font-weight: bold; text-align: right;\">11</td><td style = \"text-align: left;\">The Times-Picayune/Lucid</td><td style = \"text-align: right;\">8</td></tr><tr><td class = \"rowNumber\" style = \"font-weight: bold; text-align: right;\">12</td><td style = \"text-align: left;\">USC Dornsife/LA Times</td><td style = \"text-align: right;\">8</td></tr><tr><td class = \"rowNumber\" style = \"font-weight: bold; text-align: right;\">13</td><td style = \"text-align: left;\">RKM Research and Communications, Inc.</td><td style = \"text-align: right;\">1</td></tr><tr><td class = \"rowNumber\" style = \"font-weight: bold; text-align: right;\">14</td><td style = \"text-align: left;\">Morning Consult</td><td style = \"text-align: right;\">1</td></tr><tr><td class = \"rowNumber\" style = \"font-weight: bold; text-align: right;\">15</td><td style = \"text-align: left;\">Insights West</td><td style = \"text-align: right;\">1</td></tr></tbody></table></div>"
      ],
      "text/latex": [
       "\\begin{tabular}{r|cc}\n",
       "\t& pollster & count\\\\\n",
       "\t\\hline\n",
       "\t& String & Int64\\\\\n",
       "\t\\hline\n",
       "\t1 & ABC News/Washington Post & 7 \\\\\n",
       "\t2 & Ipsos & 6 \\\\\n",
       "\t3 & Fox News/Anderson Robbins Research/Shaw \\& Company Research & 2 \\\\\n",
       "\t4 & CBS News/New York Times & 2 \\\\\n",
       "\t5 & NBC News/Wall Street Journal & 1 \\\\\n",
       "\t6 & IBD/TIPP & 8 \\\\\n",
       "\t7 & Selzer \\& Company & 1 \\\\\n",
       "\t8 & Angus Reid Global & 1 \\\\\n",
       "\t9 & Monmouth University & 1 \\\\\n",
       "\t10 & Marist College & 1 \\\\\n",
       "\t11 & The Times-Picayune/Lucid & 8 \\\\\n",
       "\t12 & USC Dornsife/LA Times & 8 \\\\\n",
       "\t13 & RKM Research and Communications, Inc. & 1 \\\\\n",
       "\t14 & Morning Consult & 1 \\\\\n",
       "\t15 & Insights West & 1 \\\\\n",
       "\\end{tabular}\n"
      ],
      "text/plain": [
       "\u001b[1m15×2 DataFrame\u001b[0m\n",
       "\u001b[1m Row \u001b[0m│\u001b[1m pollster                          \u001b[0m\u001b[1m count \u001b[0m\n",
       "     │\u001b[90m String                            \u001b[0m\u001b[90m Int64 \u001b[0m\n",
       "─────┼──────────────────────────────────────────\n",
       "   1 │ ABC News/Washington Post               7\n",
       "   2 │ Ipsos                                  6\n",
       "   3 │ Fox News/Anderson Robbins Resear…      2\n",
       "   4 │ CBS News/New York Times                2\n",
       "   5 │ NBC News/Wall Street Journal           1\n",
       "   6 │ IBD/TIPP                               8\n",
       "   7 │ Selzer & Company                       1\n",
       "   8 │ Angus Reid Global                      1\n",
       "   9 │ Monmouth University                    1\n",
       "  10 │ Marist College                         1\n",
       "  11 │ The Times-Picayune/Lucid               8\n",
       "  12 │ USC Dornsife/LA Times                  8\n",
       "  13 │ RKM Research and Communications,…      1\n",
       "  14 │ Morning Consult                        1\n",
       "  15 │ Insights West                          1"
      ]
     },
     "metadata": {},
     "output_type": "display_data"
    }
   ],
   "source": [
    "groupby(polls, :pollster) |> g -> combine(g, nrow => :count)"
   ]
  },
  {
   "cell_type": "code",
   "execution_count": 93,
   "metadata": {},
   "outputs": [
    {
     "ename": "ArgumentError",
     "evalue": "ArgumentError: column name :spread not found in the data frame",
     "output_type": "error",
     "traceback": [
      "ArgumentError: column name :spread not found in the data frame\n",
      "\n",
      "Stacktrace:\n",
      " [1] lookupname\n",
      "   @ ~/.julia/packages/DataFrames/58MUJ/src/other/index.jl:413 [inlined]\n",
      " [2] getindex\n",
      "   @ ~/.julia/packages/DataFrames/58MUJ/src/other/index.jl:422 [inlined]\n",
      " [3] getindex(df::DataFrame, #unused#::typeof(!), col_ind::Symbol)\n",
      "   @ DataFrames ~/.julia/packages/DataFrames/58MUJ/src/dataframe/dataframe.jl:557\n",
      " [4] getproperty\n",
      "   @ ~/.julia/packages/DataFrames/58MUJ/src/abstractdataframe/abstractdataframe.jl:431 [inlined]\n",
      " [5] #129\n",
      "   @ ~/Documents/Programming/Cursos BBVA/Data-Science-Inference-and-modeling-with-Julia/4. Statistical Models.ipynb:5 [inlined]\n",
      " [6] |>(x::DataFrame, f::var\"#129#132\")\n",
      "   @ Base ./operators.jl:907\n",
      " [7] (::var\"#127#130\")(g::GroupedDataFrame{DataFrame})\n",
      "   @ Main ~/Documents/Programming/Cursos BBVA/Data-Science-Inference-and-modeling-with-Julia/4. Statistical Models.ipynb:3\n",
      " [8] |>(x::GroupedDataFrame{DataFrame}, f::var\"#127#130\")\n",
      "   @ Base ./operators.jl:907\n",
      " [9] top-level scope\n",
      "   @ ~/Documents/Programming/Cursos BBVA/Data-Science-Inference-and-modeling-with-Julia/4. Statistical Models.ipynb:1"
     ]
    }
   ],
   "source": [
    "groupby(polls, :pollster) |>\n",
    "    # g -> combine(g, nrow => :count) |>\n",
    "    g -> filter(row -> nrow(row) >= 6, g) |>\n",
    "    combine |>\n",
    "    df -> scatter(df.pollster, df.spread, xrotation=90, legend=false,\n",
    "                  xlabel=\"Pollster\", ylabel=\"Spread\")"
   ]
  },
  {
   "cell_type": "code",
   "execution_count": 104,
   "metadata": {},
   "outputs": [
    {
     "data": {
      "text/plain": [
       "#189 (generic function with 1 method)"
      ]
     },
     "metadata": {},
     "output_type": "display_data"
    }
   ],
   "source": [
    "groupby(polls, :pollster) |>\n",
    "    g -> combine(g, nrow => :count) |>\n",
    "    g -> filter(row -> row[:count] >= 6, g)\n",
    "    g -> combine(polls, g)"
   ]
  },
  {
   "cell_type": "code",
   "execution_count": 96,
   "metadata": {},
   "outputs": [],
   "source": []
  },
  {
   "cell_type": "code",
   "execution_count": null,
   "metadata": {},
   "outputs": [],
   "source": []
  }
 ],
 "metadata": {
  "kernelspec": {
   "display_name": "Julia 1.9.3",
   "language": "julia",
   "name": "julia-1.9"
  },
  "language_info": {
   "file_extension": ".jl",
   "mimetype": "application/julia",
   "name": "julia",
   "version": "1.9.3"
  },
  "orig_nbformat": 4
 },
 "nbformat": 4,
 "nbformat_minor": 2
}
